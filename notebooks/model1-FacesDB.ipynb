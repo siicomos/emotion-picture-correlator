{
 "cells": [
  {
   "cell_type": "markdown",
   "metadata": {},
   "source": [
    "# Model 1"
   ]
  },
  {
   "cell_type": "markdown",
   "metadata": {},
   "source": [
    "*Author: Liam Ling*\n",
    "\n",
    "OpenFace feature extraction is done in Google Colab.\n",
    "\n",
    "Link to the Colab notebook: [Click here](https://colab.research.google.com/drive/1EVXGv7-Fd1QOEvSTtXCIvszrPXx1L4u4?usp=sharing)\n",
    "\n",
    "Datasets are in Google Drive: [Click here](https://drive.google.com/drive/folders/1cryZ_pzgiwqeNCOoRfbieRLCpivMktjG?usp=sharing)\n",
    "\n",
    "To restore the datasets in place:\n",
    "- for FePh: download the Feph/processed and FePh/FePh_labels.csv into ../datasets folder\n",
    "- for IMPA-FACES3D: download the facesdb/process into ../datasets folder"
   ]
  },
  {
   "cell_type": "markdown",
   "metadata": {},
   "source": [
    "## IMPA-FACES3D: 3D facial expression database\n",
    "Ref: http://app.visgraf.impa.br/database/faces/about/"
   ]
  },
  {
   "cell_type": "markdown",
   "metadata": {},
   "source": [
    "### Find and Load All the Data Files"
   ]
  },
  {
   "cell_type": "code",
   "execution_count": 1,
   "metadata": {},
   "outputs": [],
   "source": [
    "import glob"
   ]
  },
  {
   "cell_type": "code",
   "execution_count": 2,
   "metadata": {},
   "outputs": [
    {
     "data": {
      "text/plain": [
       "252"
      ]
     },
     "execution_count": 2,
     "metadata": {},
     "output_type": "execute_result"
    }
   ],
   "source": [
    "facesdb_processed = glob.glob(\"../datasets/facesdb/processed/*.csv\")\n",
    "len(facesdb_processed)"
   ]
  },
  {
   "cell_type": "markdown",
   "metadata": {},
   "source": [
    "### Preprocessing"
   ]
  },
  {
   "cell_type": "code",
   "execution_count": 3,
   "metadata": {},
   "outputs": [],
   "source": [
    "# this is from the dataset webpage\n",
    "emotion_mapping = {\n",
    "    \"00\": \"neutral frontal\",\n",
    "    \"01\": \"joy\",\n",
    "    \"02\": \"sadness\",\n",
    "    \"03\": \"surprise\",\n",
    "    \"04\": \"anger\",\n",
    "    \"05\": \"disgust\",\n",
    "    \"06\": \"fear\"\n",
    "}"
   ]
  },
  {
   "cell_type": "code",
   "execution_count": 4,
   "metadata": {},
   "outputs": [],
   "source": [
    "from pathlib import Path"
   ]
  },
  {
   "cell_type": "code",
   "execution_count": 5,
   "metadata": {
    "scrolled": true
   },
   "outputs": [
    {
     "data": {
      "text/plain": [
       "'01'"
      ]
     },
     "execution_count": 5,
     "metadata": {},
     "output_type": "execute_result"
    }
   ],
   "source": [
    "Path(facesdb_processed[0]).stem.split(\"-\")[1].split(\"_\")[0]"
   ]
  },
  {
   "cell_type": "code",
   "execution_count": 6,
   "metadata": {},
   "outputs": [],
   "source": [
    "import pandas as pd"
   ]
  },
  {
   "cell_type": "code",
   "execution_count": 7,
   "metadata": {},
   "outputs": [
    {
     "data": {
      "text/html": [
       "<div>\n",
       "<style scoped>\n",
       "    .dataframe tbody tr th:only-of-type {\n",
       "        vertical-align: middle;\n",
       "    }\n",
       "\n",
       "    .dataframe tbody tr th {\n",
       "        vertical-align: top;\n",
       "    }\n",
       "\n",
       "    .dataframe thead th {\n",
       "        text-align: right;\n",
       "    }\n",
       "</style>\n",
       "<table border=\"1\" class=\"dataframe\">\n",
       "  <thead>\n",
       "    <tr style=\"text-align: right;\">\n",
       "      <th></th>\n",
       "      <th>file</th>\n",
       "      <th>emotion</th>\n",
       "    </tr>\n",
       "  </thead>\n",
       "  <tbody>\n",
       "    <tr>\n",
       "      <th>0</th>\n",
       "      <td>s013-01_img.bmp</td>\n",
       "      <td>joy</td>\n",
       "    </tr>\n",
       "    <tr>\n",
       "      <th>1</th>\n",
       "      <td>s002-04_img.bmp</td>\n",
       "      <td>anger</td>\n",
       "    </tr>\n",
       "    <tr>\n",
       "      <th>2</th>\n",
       "      <td>s006-04_img.bmp</td>\n",
       "      <td>anger</td>\n",
       "    </tr>\n",
       "    <tr>\n",
       "      <th>3</th>\n",
       "      <td>s009-02_img.bmp</td>\n",
       "      <td>sadness</td>\n",
       "    </tr>\n",
       "    <tr>\n",
       "      <th>4</th>\n",
       "      <td>s003-04_img.bmp</td>\n",
       "      <td>anger</td>\n",
       "    </tr>\n",
       "    <tr>\n",
       "      <th>...</th>\n",
       "      <td>...</td>\n",
       "      <td>...</td>\n",
       "    </tr>\n",
       "    <tr>\n",
       "      <th>247</th>\n",
       "      <td>s016-03_img.bmp</td>\n",
       "      <td>surprise</td>\n",
       "    </tr>\n",
       "    <tr>\n",
       "      <th>248</th>\n",
       "      <td>s009-01_img.bmp</td>\n",
       "      <td>joy</td>\n",
       "    </tr>\n",
       "    <tr>\n",
       "      <th>249</th>\n",
       "      <td>s028-01_img.bmp</td>\n",
       "      <td>joy</td>\n",
       "    </tr>\n",
       "    <tr>\n",
       "      <th>250</th>\n",
       "      <td>s038-04_img.bmp</td>\n",
       "      <td>anger</td>\n",
       "    </tr>\n",
       "    <tr>\n",
       "      <th>251</th>\n",
       "      <td>s023-02_img.bmp</td>\n",
       "      <td>sadness</td>\n",
       "    </tr>\n",
       "  </tbody>\n",
       "</table>\n",
       "<p>252 rows × 2 columns</p>\n",
       "</div>"
      ],
      "text/plain": [
       "                file   emotion\n",
       "0    s013-01_img.bmp       joy\n",
       "1    s002-04_img.bmp     anger\n",
       "2    s006-04_img.bmp     anger\n",
       "3    s009-02_img.bmp   sadness\n",
       "4    s003-04_img.bmp     anger\n",
       "..               ...       ...\n",
       "247  s016-03_img.bmp  surprise\n",
       "248  s009-01_img.bmp       joy\n",
       "249  s028-01_img.bmp       joy\n",
       "250  s038-04_img.bmp     anger\n",
       "251  s023-02_img.bmp   sadness\n",
       "\n",
       "[252 rows x 2 columns]"
      ]
     },
     "execution_count": 7,
     "metadata": {},
     "output_type": "execute_result"
    }
   ],
   "source": [
    "facesdb_labels_df = pd.DataFrame(\n",
    "    {\n",
    "        \"file\":[f\"{Path(f).stem}.bmp\" for f in facesdb_processed],\n",
    "        \"emotion\":[emotion_mapping.get(Path(f).stem.split(\"-\")[1].split(\"_\")[0]) for f in facesdb_processed]\n",
    "    }\n",
    ")\n",
    "facesdb_labels_df"
   ]
  },
  {
   "cell_type": "code",
   "execution_count": 8,
   "metadata": {},
   "outputs": [],
   "source": [
    "processed_list = []\n",
    "for f in facesdb_processed:\n",
    "    processed_list.append(pd.read_csv(f, sep=',\\s+', delimiter=',', encoding=\"utf-8\", skipinitialspace=True))"
   ]
  },
  {
   "cell_type": "code",
   "execution_count": 9,
   "metadata": {},
   "outputs": [
    {
     "data": {
      "text/html": [
       "<div>\n",
       "<style scoped>\n",
       "    .dataframe tbody tr th:only-of-type {\n",
       "        vertical-align: middle;\n",
       "    }\n",
       "\n",
       "    .dataframe tbody tr th {\n",
       "        vertical-align: top;\n",
       "    }\n",
       "\n",
       "    .dataframe thead th {\n",
       "        text-align: right;\n",
       "    }\n",
       "</style>\n",
       "<table border=\"1\" class=\"dataframe\">\n",
       "  <thead>\n",
       "    <tr style=\"text-align: right;\">\n",
       "      <th></th>\n",
       "      <th>face</th>\n",
       "      <th>confidence</th>\n",
       "      <th>gaze_0_x</th>\n",
       "      <th>gaze_0_y</th>\n",
       "      <th>gaze_0_z</th>\n",
       "      <th>gaze_1_x</th>\n",
       "      <th>gaze_1_y</th>\n",
       "      <th>gaze_1_z</th>\n",
       "      <th>gaze_angle_x</th>\n",
       "      <th>gaze_angle_y</th>\n",
       "      <th>...</th>\n",
       "      <th>AU12_c</th>\n",
       "      <th>AU14_c</th>\n",
       "      <th>AU15_c</th>\n",
       "      <th>AU17_c</th>\n",
       "      <th>AU20_c</th>\n",
       "      <th>AU23_c</th>\n",
       "      <th>AU25_c</th>\n",
       "      <th>AU26_c</th>\n",
       "      <th>AU28_c</th>\n",
       "      <th>AU45_c</th>\n",
       "    </tr>\n",
       "  </thead>\n",
       "  <tbody>\n",
       "    <tr>\n",
       "      <th>0</th>\n",
       "      <td>0</td>\n",
       "      <td>0.975</td>\n",
       "      <td>0.009320</td>\n",
       "      <td>0.014206</td>\n",
       "      <td>-0.999856</td>\n",
       "      <td>-0.072808</td>\n",
       "      <td>0.043095</td>\n",
       "      <td>-0.996414</td>\n",
       "      <td>-0.032</td>\n",
       "      <td>0.029</td>\n",
       "      <td>...</td>\n",
       "      <td>1.0</td>\n",
       "      <td>1.0</td>\n",
       "      <td>0.0</td>\n",
       "      <td>0.0</td>\n",
       "      <td>0.0</td>\n",
       "      <td>0.0</td>\n",
       "      <td>1.0</td>\n",
       "      <td>1.0</td>\n",
       "      <td>0.0</td>\n",
       "      <td>0.0</td>\n",
       "    </tr>\n",
       "    <tr>\n",
       "      <th>0</th>\n",
       "      <td>0</td>\n",
       "      <td>0.975</td>\n",
       "      <td>0.109476</td>\n",
       "      <td>0.025355</td>\n",
       "      <td>-0.993666</td>\n",
       "      <td>-0.035418</td>\n",
       "      <td>0.060245</td>\n",
       "      <td>-0.997555</td>\n",
       "      <td>0.037</td>\n",
       "      <td>0.043</td>\n",
       "      <td>...</td>\n",
       "      <td>0.0</td>\n",
       "      <td>0.0</td>\n",
       "      <td>0.0</td>\n",
       "      <td>0.0</td>\n",
       "      <td>0.0</td>\n",
       "      <td>0.0</td>\n",
       "      <td>0.0</td>\n",
       "      <td>0.0</td>\n",
       "      <td>0.0</td>\n",
       "      <td>0.0</td>\n",
       "    </tr>\n",
       "    <tr>\n",
       "      <th>0</th>\n",
       "      <td>0</td>\n",
       "      <td>0.975</td>\n",
       "      <td>0.032634</td>\n",
       "      <td>0.132334</td>\n",
       "      <td>-0.990668</td>\n",
       "      <td>-0.094885</td>\n",
       "      <td>0.160115</td>\n",
       "      <td>-0.982527</td>\n",
       "      <td>-0.032</td>\n",
       "      <td>0.147</td>\n",
       "      <td>...</td>\n",
       "      <td>1.0</td>\n",
       "      <td>1.0</td>\n",
       "      <td>0.0</td>\n",
       "      <td>1.0</td>\n",
       "      <td>1.0</td>\n",
       "      <td>1.0</td>\n",
       "      <td>0.0</td>\n",
       "      <td>0.0</td>\n",
       "      <td>1.0</td>\n",
       "      <td>0.0</td>\n",
       "    </tr>\n",
       "    <tr>\n",
       "      <th>0</th>\n",
       "      <td>0</td>\n",
       "      <td>0.975</td>\n",
       "      <td>0.075904</td>\n",
       "      <td>-0.173915</td>\n",
       "      <td>-0.981831</td>\n",
       "      <td>-0.124586</td>\n",
       "      <td>-0.169520</td>\n",
       "      <td>-0.977620</td>\n",
       "      <td>-0.025</td>\n",
       "      <td>-0.174</td>\n",
       "      <td>...</td>\n",
       "      <td>0.0</td>\n",
       "      <td>0.0</td>\n",
       "      <td>1.0</td>\n",
       "      <td>1.0</td>\n",
       "      <td>0.0</td>\n",
       "      <td>0.0</td>\n",
       "      <td>0.0</td>\n",
       "      <td>0.0</td>\n",
       "      <td>1.0</td>\n",
       "      <td>0.0</td>\n",
       "    </tr>\n",
       "    <tr>\n",
       "      <th>0</th>\n",
       "      <td>0</td>\n",
       "      <td>0.925</td>\n",
       "      <td>0.091588</td>\n",
       "      <td>0.028566</td>\n",
       "      <td>-0.995387</td>\n",
       "      <td>-0.139688</td>\n",
       "      <td>0.040677</td>\n",
       "      <td>-0.989360</td>\n",
       "      <td>-0.024</td>\n",
       "      <td>0.035</td>\n",
       "      <td>...</td>\n",
       "      <td>1.0</td>\n",
       "      <td>1.0</td>\n",
       "      <td>0.0</td>\n",
       "      <td>1.0</td>\n",
       "      <td>0.0</td>\n",
       "      <td>1.0</td>\n",
       "      <td>0.0</td>\n",
       "      <td>0.0</td>\n",
       "      <td>1.0</td>\n",
       "      <td>0.0</td>\n",
       "    </tr>\n",
       "    <tr>\n",
       "      <th>...</th>\n",
       "      <td>...</td>\n",
       "      <td>...</td>\n",
       "      <td>...</td>\n",
       "      <td>...</td>\n",
       "      <td>...</td>\n",
       "      <td>...</td>\n",
       "      <td>...</td>\n",
       "      <td>...</td>\n",
       "      <td>...</td>\n",
       "      <td>...</td>\n",
       "      <td>...</td>\n",
       "      <td>...</td>\n",
       "      <td>...</td>\n",
       "      <td>...</td>\n",
       "      <td>...</td>\n",
       "      <td>...</td>\n",
       "      <td>...</td>\n",
       "      <td>...</td>\n",
       "      <td>...</td>\n",
       "      <td>...</td>\n",
       "      <td>...</td>\n",
       "    </tr>\n",
       "    <tr>\n",
       "      <th>0</th>\n",
       "      <td>0</td>\n",
       "      <td>0.975</td>\n",
       "      <td>0.109363</td>\n",
       "      <td>0.084499</td>\n",
       "      <td>-0.990404</td>\n",
       "      <td>-0.100253</td>\n",
       "      <td>0.135343</td>\n",
       "      <td>-0.985714</td>\n",
       "      <td>0.005</td>\n",
       "      <td>0.111</td>\n",
       "      <td>...</td>\n",
       "      <td>0.0</td>\n",
       "      <td>1.0</td>\n",
       "      <td>0.0</td>\n",
       "      <td>0.0</td>\n",
       "      <td>1.0</td>\n",
       "      <td>0.0</td>\n",
       "      <td>0.0</td>\n",
       "      <td>1.0</td>\n",
       "      <td>0.0</td>\n",
       "      <td>0.0</td>\n",
       "    </tr>\n",
       "    <tr>\n",
       "      <th>0</th>\n",
       "      <td>0</td>\n",
       "      <td>0.975</td>\n",
       "      <td>0.030801</td>\n",
       "      <td>-0.172334</td>\n",
       "      <td>-0.984557</td>\n",
       "      <td>-0.061300</td>\n",
       "      <td>-0.131552</td>\n",
       "      <td>-0.989412</td>\n",
       "      <td>-0.015</td>\n",
       "      <td>-0.153</td>\n",
       "      <td>...</td>\n",
       "      <td>1.0</td>\n",
       "      <td>0.0</td>\n",
       "      <td>0.0</td>\n",
       "      <td>0.0</td>\n",
       "      <td>0.0</td>\n",
       "      <td>0.0</td>\n",
       "      <td>1.0</td>\n",
       "      <td>1.0</td>\n",
       "      <td>0.0</td>\n",
       "      <td>0.0</td>\n",
       "    </tr>\n",
       "    <tr>\n",
       "      <th>0</th>\n",
       "      <td>0</td>\n",
       "      <td>0.975</td>\n",
       "      <td>0.069323</td>\n",
       "      <td>-0.085740</td>\n",
       "      <td>-0.993903</td>\n",
       "      <td>-0.118764</td>\n",
       "      <td>-0.059494</td>\n",
       "      <td>-0.991139</td>\n",
       "      <td>-0.025</td>\n",
       "      <td>-0.073</td>\n",
       "      <td>...</td>\n",
       "      <td>1.0</td>\n",
       "      <td>0.0</td>\n",
       "      <td>0.0</td>\n",
       "      <td>0.0</td>\n",
       "      <td>0.0</td>\n",
       "      <td>1.0</td>\n",
       "      <td>1.0</td>\n",
       "      <td>1.0</td>\n",
       "      <td>0.0</td>\n",
       "      <td>0.0</td>\n",
       "    </tr>\n",
       "    <tr>\n",
       "      <th>0</th>\n",
       "      <td>0</td>\n",
       "      <td>0.975</td>\n",
       "      <td>0.092728</td>\n",
       "      <td>-0.067415</td>\n",
       "      <td>-0.993407</td>\n",
       "      <td>-0.158522</td>\n",
       "      <td>-0.046738</td>\n",
       "      <td>-0.986249</td>\n",
       "      <td>-0.033</td>\n",
       "      <td>-0.058</td>\n",
       "      <td>...</td>\n",
       "      <td>0.0</td>\n",
       "      <td>0.0</td>\n",
       "      <td>1.0</td>\n",
       "      <td>1.0</td>\n",
       "      <td>0.0</td>\n",
       "      <td>0.0</td>\n",
       "      <td>0.0</td>\n",
       "      <td>0.0</td>\n",
       "      <td>1.0</td>\n",
       "      <td>0.0</td>\n",
       "    </tr>\n",
       "    <tr>\n",
       "      <th>0</th>\n",
       "      <td>0</td>\n",
       "      <td>0.975</td>\n",
       "      <td>0.188815</td>\n",
       "      <td>0.011244</td>\n",
       "      <td>-0.981948</td>\n",
       "      <td>-0.033595</td>\n",
       "      <td>0.010927</td>\n",
       "      <td>-0.999376</td>\n",
       "      <td>0.078</td>\n",
       "      <td>0.011</td>\n",
       "      <td>...</td>\n",
       "      <td>0.0</td>\n",
       "      <td>0.0</td>\n",
       "      <td>1.0</td>\n",
       "      <td>1.0</td>\n",
       "      <td>0.0</td>\n",
       "      <td>0.0</td>\n",
       "      <td>0.0</td>\n",
       "      <td>0.0</td>\n",
       "      <td>1.0</td>\n",
       "      <td>0.0</td>\n",
       "    </tr>\n",
       "  </tbody>\n",
       "</table>\n",
       "<p>252 rows × 711 columns</p>\n",
       "</div>"
      ],
      "text/plain": [
       "    face  confidence  gaze_0_x  gaze_0_y  gaze_0_z  gaze_1_x  gaze_1_y  \\\n",
       "0      0       0.975  0.009320  0.014206 -0.999856 -0.072808  0.043095   \n",
       "0      0       0.975  0.109476  0.025355 -0.993666 -0.035418  0.060245   \n",
       "0      0       0.975  0.032634  0.132334 -0.990668 -0.094885  0.160115   \n",
       "0      0       0.975  0.075904 -0.173915 -0.981831 -0.124586 -0.169520   \n",
       "0      0       0.925  0.091588  0.028566 -0.995387 -0.139688  0.040677   \n",
       "..   ...         ...       ...       ...       ...       ...       ...   \n",
       "0      0       0.975  0.109363  0.084499 -0.990404 -0.100253  0.135343   \n",
       "0      0       0.975  0.030801 -0.172334 -0.984557 -0.061300 -0.131552   \n",
       "0      0       0.975  0.069323 -0.085740 -0.993903 -0.118764 -0.059494   \n",
       "0      0       0.975  0.092728 -0.067415 -0.993407 -0.158522 -0.046738   \n",
       "0      0       0.975  0.188815  0.011244 -0.981948 -0.033595  0.010927   \n",
       "\n",
       "    gaze_1_z  gaze_angle_x  gaze_angle_y  ...  AU12_c  AU14_c  AU15_c  AU17_c  \\\n",
       "0  -0.996414        -0.032         0.029  ...     1.0     1.0     0.0     0.0   \n",
       "0  -0.997555         0.037         0.043  ...     0.0     0.0     0.0     0.0   \n",
       "0  -0.982527        -0.032         0.147  ...     1.0     1.0     0.0     1.0   \n",
       "0  -0.977620        -0.025        -0.174  ...     0.0     0.0     1.0     1.0   \n",
       "0  -0.989360        -0.024         0.035  ...     1.0     1.0     0.0     1.0   \n",
       "..       ...           ...           ...  ...     ...     ...     ...     ...   \n",
       "0  -0.985714         0.005         0.111  ...     0.0     1.0     0.0     0.0   \n",
       "0  -0.989412        -0.015        -0.153  ...     1.0     0.0     0.0     0.0   \n",
       "0  -0.991139        -0.025        -0.073  ...     1.0     0.0     0.0     0.0   \n",
       "0  -0.986249        -0.033        -0.058  ...     0.0     0.0     1.0     1.0   \n",
       "0  -0.999376         0.078         0.011  ...     0.0     0.0     1.0     1.0   \n",
       "\n",
       "    AU20_c  AU23_c  AU25_c  AU26_c  AU28_c  AU45_c  \n",
       "0      0.0     0.0     1.0     1.0     0.0     0.0  \n",
       "0      0.0     0.0     0.0     0.0     0.0     0.0  \n",
       "0      1.0     1.0     0.0     0.0     1.0     0.0  \n",
       "0      0.0     0.0     0.0     0.0     1.0     0.0  \n",
       "0      0.0     1.0     0.0     0.0     1.0     0.0  \n",
       "..     ...     ...     ...     ...     ...     ...  \n",
       "0      1.0     0.0     0.0     1.0     0.0     0.0  \n",
       "0      0.0     0.0     1.0     1.0     0.0     0.0  \n",
       "0      0.0     1.0     1.0     1.0     0.0     0.0  \n",
       "0      0.0     0.0     0.0     0.0     1.0     0.0  \n",
       "0      0.0     0.0     0.0     0.0     1.0     0.0  \n",
       "\n",
       "[252 rows x 711 columns]"
      ]
     },
     "execution_count": 9,
     "metadata": {},
     "output_type": "execute_result"
    }
   ],
   "source": [
    "facesdb_all_processed = pd.concat(processed_list)\n",
    "facesdb_all_processed"
   ]
  },
  {
   "cell_type": "code",
   "execution_count": 10,
   "metadata": {},
   "outputs": [],
   "source": [
    "facesdb_all_processed[\"file\"] = [f\"{Path(f).stem}.bmp\" for f in facesdb_processed]"
   ]
  },
  {
   "cell_type": "code",
   "execution_count": 11,
   "metadata": {},
   "outputs": [],
   "source": [
    "facesdb_all_processed = facesdb_all_processed.reset_index().drop([\"index\",\"face\"], axis=1)"
   ]
  },
  {
   "cell_type": "code",
   "execution_count": 12,
   "metadata": {},
   "outputs": [
    {
     "name": "stdout",
     "output_type": "stream",
     "text": [
      "(252, 711)\n"
     ]
    }
   ],
   "source": [
    "def filter_low_confidence(df, level=0.0):\n",
    "    return df[df[\"confidence\"] >= level]\n",
    "facesdb_all_processed_filtered = filter_low_confidence(facesdb_all_processed, level=0.5)\n",
    "# after filtering out records have confidence level lower than 0.5\n",
    "print(facesdb_all_processed_filtered.shape)"
   ]
  },
  {
   "cell_type": "code",
   "execution_count": 13,
   "metadata": {},
   "outputs": [],
   "source": [
    "facesdb_all_processed_features = facesdb_all_processed_filtered[['confidence', 'AU01_r', 'AU02_r', 'AU04_r', 'AU05_r',\n",
    "       'AU06_r', 'AU07_r', 'AU09_r', 'AU10_r', 'AU12_r', 'AU14_r',\n",
    "       'AU15_r', 'AU17_r', 'AU20_r', 'AU23_r', 'AU25_r', 'AU26_r',\n",
    "       'AU45_r', 'AU01_c', 'AU02_c', 'AU04_c', 'AU05_c', 'AU06_c',\n",
    "       'AU07_c', 'AU09_c', 'AU10_c', 'AU12_c', 'AU14_c', 'AU15_c',\n",
    "       'AU17_c', 'AU20_c', 'AU23_c', 'AU25_c', 'AU26_c', 'AU28_c',\n",
    "       'AU45_c', 'file']]"
   ]
  },
  {
   "cell_type": "code",
   "execution_count": 14,
   "metadata": {
    "scrolled": true
   },
   "outputs": [
    {
     "data": {
      "text/html": [
       "<div>\n",
       "<style scoped>\n",
       "    .dataframe tbody tr th:only-of-type {\n",
       "        vertical-align: middle;\n",
       "    }\n",
       "\n",
       "    .dataframe tbody tr th {\n",
       "        vertical-align: top;\n",
       "    }\n",
       "\n",
       "    .dataframe thead th {\n",
       "        text-align: right;\n",
       "    }\n",
       "</style>\n",
       "<table border=\"1\" class=\"dataframe\">\n",
       "  <thead>\n",
       "    <tr style=\"text-align: right;\">\n",
       "      <th></th>\n",
       "      <th>confidence</th>\n",
       "      <th>AU01_r</th>\n",
       "      <th>AU02_r</th>\n",
       "      <th>AU04_r</th>\n",
       "      <th>AU05_r</th>\n",
       "      <th>AU06_r</th>\n",
       "      <th>AU07_r</th>\n",
       "      <th>AU09_r</th>\n",
       "      <th>AU10_r</th>\n",
       "      <th>AU12_r</th>\n",
       "      <th>...</th>\n",
       "      <th>AU15_c</th>\n",
       "      <th>AU17_c</th>\n",
       "      <th>AU20_c</th>\n",
       "      <th>AU23_c</th>\n",
       "      <th>AU25_c</th>\n",
       "      <th>AU26_c</th>\n",
       "      <th>AU28_c</th>\n",
       "      <th>AU45_c</th>\n",
       "      <th>file</th>\n",
       "      <th>emotion</th>\n",
       "    </tr>\n",
       "  </thead>\n",
       "  <tbody>\n",
       "    <tr>\n",
       "      <th>0</th>\n",
       "      <td>0.975</td>\n",
       "      <td>0.26</td>\n",
       "      <td>0.95</td>\n",
       "      <td>0.07</td>\n",
       "      <td>0.22</td>\n",
       "      <td>1.10</td>\n",
       "      <td>0.80</td>\n",
       "      <td>0.75</td>\n",
       "      <td>1.02</td>\n",
       "      <td>2.07</td>\n",
       "      <td>...</td>\n",
       "      <td>0.0</td>\n",
       "      <td>0.0</td>\n",
       "      <td>0.0</td>\n",
       "      <td>0.0</td>\n",
       "      <td>1.0</td>\n",
       "      <td>1.0</td>\n",
       "      <td>0.0</td>\n",
       "      <td>0.0</td>\n",
       "      <td>s013-01_img.bmp</td>\n",
       "      <td>joy</td>\n",
       "    </tr>\n",
       "    <tr>\n",
       "      <th>1</th>\n",
       "      <td>0.975</td>\n",
       "      <td>0.62</td>\n",
       "      <td>1.29</td>\n",
       "      <td>1.99</td>\n",
       "      <td>1.47</td>\n",
       "      <td>0.64</td>\n",
       "      <td>2.60</td>\n",
       "      <td>1.79</td>\n",
       "      <td>0.00</td>\n",
       "      <td>0.00</td>\n",
       "      <td>...</td>\n",
       "      <td>0.0</td>\n",
       "      <td>0.0</td>\n",
       "      <td>0.0</td>\n",
       "      <td>0.0</td>\n",
       "      <td>0.0</td>\n",
       "      <td>0.0</td>\n",
       "      <td>0.0</td>\n",
       "      <td>0.0</td>\n",
       "      <td>s002-04_img.bmp</td>\n",
       "      <td>anger</td>\n",
       "    </tr>\n",
       "    <tr>\n",
       "      <th>2</th>\n",
       "      <td>0.975</td>\n",
       "      <td>0.61</td>\n",
       "      <td>0.00</td>\n",
       "      <td>1.49</td>\n",
       "      <td>0.41</td>\n",
       "      <td>0.40</td>\n",
       "      <td>1.07</td>\n",
       "      <td>0.00</td>\n",
       "      <td>0.00</td>\n",
       "      <td>1.17</td>\n",
       "      <td>...</td>\n",
       "      <td>0.0</td>\n",
       "      <td>1.0</td>\n",
       "      <td>1.0</td>\n",
       "      <td>1.0</td>\n",
       "      <td>0.0</td>\n",
       "      <td>0.0</td>\n",
       "      <td>1.0</td>\n",
       "      <td>0.0</td>\n",
       "      <td>s006-04_img.bmp</td>\n",
       "      <td>anger</td>\n",
       "    </tr>\n",
       "    <tr>\n",
       "      <th>3</th>\n",
       "      <td>0.975</td>\n",
       "      <td>0.66</td>\n",
       "      <td>0.35</td>\n",
       "      <td>1.61</td>\n",
       "      <td>0.27</td>\n",
       "      <td>0.37</td>\n",
       "      <td>1.26</td>\n",
       "      <td>1.17</td>\n",
       "      <td>0.00</td>\n",
       "      <td>0.00</td>\n",
       "      <td>...</td>\n",
       "      <td>1.0</td>\n",
       "      <td>1.0</td>\n",
       "      <td>0.0</td>\n",
       "      <td>0.0</td>\n",
       "      <td>0.0</td>\n",
       "      <td>0.0</td>\n",
       "      <td>1.0</td>\n",
       "      <td>0.0</td>\n",
       "      <td>s009-02_img.bmp</td>\n",
       "      <td>sadness</td>\n",
       "    </tr>\n",
       "    <tr>\n",
       "      <th>4</th>\n",
       "      <td>0.925</td>\n",
       "      <td>1.65</td>\n",
       "      <td>0.13</td>\n",
       "      <td>2.89</td>\n",
       "      <td>0.00</td>\n",
       "      <td>1.50</td>\n",
       "      <td>0.89</td>\n",
       "      <td>0.42</td>\n",
       "      <td>1.32</td>\n",
       "      <td>1.28</td>\n",
       "      <td>...</td>\n",
       "      <td>0.0</td>\n",
       "      <td>1.0</td>\n",
       "      <td>0.0</td>\n",
       "      <td>1.0</td>\n",
       "      <td>0.0</td>\n",
       "      <td>0.0</td>\n",
       "      <td>1.0</td>\n",
       "      <td>0.0</td>\n",
       "      <td>s003-04_img.bmp</td>\n",
       "      <td>anger</td>\n",
       "    </tr>\n",
       "    <tr>\n",
       "      <th>...</th>\n",
       "      <td>...</td>\n",
       "      <td>...</td>\n",
       "      <td>...</td>\n",
       "      <td>...</td>\n",
       "      <td>...</td>\n",
       "      <td>...</td>\n",
       "      <td>...</td>\n",
       "      <td>...</td>\n",
       "      <td>...</td>\n",
       "      <td>...</td>\n",
       "      <td>...</td>\n",
       "      <td>...</td>\n",
       "      <td>...</td>\n",
       "      <td>...</td>\n",
       "      <td>...</td>\n",
       "      <td>...</td>\n",
       "      <td>...</td>\n",
       "      <td>...</td>\n",
       "      <td>...</td>\n",
       "      <td>...</td>\n",
       "      <td>...</td>\n",
       "    </tr>\n",
       "    <tr>\n",
       "      <th>247</th>\n",
       "      <td>0.975</td>\n",
       "      <td>1.57</td>\n",
       "      <td>4.08</td>\n",
       "      <td>0.00</td>\n",
       "      <td>3.04</td>\n",
       "      <td>0.00</td>\n",
       "      <td>1.53</td>\n",
       "      <td>1.04</td>\n",
       "      <td>0.39</td>\n",
       "      <td>0.44</td>\n",
       "      <td>...</td>\n",
       "      <td>0.0</td>\n",
       "      <td>0.0</td>\n",
       "      <td>1.0</td>\n",
       "      <td>0.0</td>\n",
       "      <td>0.0</td>\n",
       "      <td>1.0</td>\n",
       "      <td>0.0</td>\n",
       "      <td>0.0</td>\n",
       "      <td>s016-03_img.bmp</td>\n",
       "      <td>surprise</td>\n",
       "    </tr>\n",
       "    <tr>\n",
       "      <th>248</th>\n",
       "      <td>0.975</td>\n",
       "      <td>0.51</td>\n",
       "      <td>1.43</td>\n",
       "      <td>0.00</td>\n",
       "      <td>1.61</td>\n",
       "      <td>1.01</td>\n",
       "      <td>1.79</td>\n",
       "      <td>1.29</td>\n",
       "      <td>0.59</td>\n",
       "      <td>1.87</td>\n",
       "      <td>...</td>\n",
       "      <td>0.0</td>\n",
       "      <td>0.0</td>\n",
       "      <td>0.0</td>\n",
       "      <td>0.0</td>\n",
       "      <td>1.0</td>\n",
       "      <td>1.0</td>\n",
       "      <td>0.0</td>\n",
       "      <td>0.0</td>\n",
       "      <td>s009-01_img.bmp</td>\n",
       "      <td>joy</td>\n",
       "    </tr>\n",
       "    <tr>\n",
       "      <th>249</th>\n",
       "      <td>0.975</td>\n",
       "      <td>0.17</td>\n",
       "      <td>0.81</td>\n",
       "      <td>1.59</td>\n",
       "      <td>0.90</td>\n",
       "      <td>1.33</td>\n",
       "      <td>1.68</td>\n",
       "      <td>0.82</td>\n",
       "      <td>1.29</td>\n",
       "      <td>1.90</td>\n",
       "      <td>...</td>\n",
       "      <td>0.0</td>\n",
       "      <td>0.0</td>\n",
       "      <td>0.0</td>\n",
       "      <td>1.0</td>\n",
       "      <td>1.0</td>\n",
       "      <td>1.0</td>\n",
       "      <td>0.0</td>\n",
       "      <td>0.0</td>\n",
       "      <td>s028-01_img.bmp</td>\n",
       "      <td>joy</td>\n",
       "    </tr>\n",
       "    <tr>\n",
       "      <th>250</th>\n",
       "      <td>0.975</td>\n",
       "      <td>0.00</td>\n",
       "      <td>0.20</td>\n",
       "      <td>2.00</td>\n",
       "      <td>0.52</td>\n",
       "      <td>1.66</td>\n",
       "      <td>2.01</td>\n",
       "      <td>1.72</td>\n",
       "      <td>0.36</td>\n",
       "      <td>0.00</td>\n",
       "      <td>...</td>\n",
       "      <td>1.0</td>\n",
       "      <td>1.0</td>\n",
       "      <td>0.0</td>\n",
       "      <td>0.0</td>\n",
       "      <td>0.0</td>\n",
       "      <td>0.0</td>\n",
       "      <td>1.0</td>\n",
       "      <td>0.0</td>\n",
       "      <td>s038-04_img.bmp</td>\n",
       "      <td>anger</td>\n",
       "    </tr>\n",
       "    <tr>\n",
       "      <th>251</th>\n",
       "      <td>0.975</td>\n",
       "      <td>0.66</td>\n",
       "      <td>1.40</td>\n",
       "      <td>0.00</td>\n",
       "      <td>2.40</td>\n",
       "      <td>0.14</td>\n",
       "      <td>0.00</td>\n",
       "      <td>0.80</td>\n",
       "      <td>0.16</td>\n",
       "      <td>0.00</td>\n",
       "      <td>...</td>\n",
       "      <td>1.0</td>\n",
       "      <td>1.0</td>\n",
       "      <td>0.0</td>\n",
       "      <td>0.0</td>\n",
       "      <td>0.0</td>\n",
       "      <td>0.0</td>\n",
       "      <td>1.0</td>\n",
       "      <td>0.0</td>\n",
       "      <td>s023-02_img.bmp</td>\n",
       "      <td>sadness</td>\n",
       "    </tr>\n",
       "  </tbody>\n",
       "</table>\n",
       "<p>252 rows × 38 columns</p>\n",
       "</div>"
      ],
      "text/plain": [
       "     confidence  AU01_r  AU02_r  AU04_r  AU05_r  AU06_r  AU07_r  AU09_r  \\\n",
       "0         0.975    0.26    0.95    0.07    0.22    1.10    0.80    0.75   \n",
       "1         0.975    0.62    1.29    1.99    1.47    0.64    2.60    1.79   \n",
       "2         0.975    0.61    0.00    1.49    0.41    0.40    1.07    0.00   \n",
       "3         0.975    0.66    0.35    1.61    0.27    0.37    1.26    1.17   \n",
       "4         0.925    1.65    0.13    2.89    0.00    1.50    0.89    0.42   \n",
       "..          ...     ...     ...     ...     ...     ...     ...     ...   \n",
       "247       0.975    1.57    4.08    0.00    3.04    0.00    1.53    1.04   \n",
       "248       0.975    0.51    1.43    0.00    1.61    1.01    1.79    1.29   \n",
       "249       0.975    0.17    0.81    1.59    0.90    1.33    1.68    0.82   \n",
       "250       0.975    0.00    0.20    2.00    0.52    1.66    2.01    1.72   \n",
       "251       0.975    0.66    1.40    0.00    2.40    0.14    0.00    0.80   \n",
       "\n",
       "     AU10_r  AU12_r  ...  AU15_c  AU17_c  AU20_c  AU23_c  AU25_c  AU26_c  \\\n",
       "0      1.02    2.07  ...     0.0     0.0     0.0     0.0     1.0     1.0   \n",
       "1      0.00    0.00  ...     0.0     0.0     0.0     0.0     0.0     0.0   \n",
       "2      0.00    1.17  ...     0.0     1.0     1.0     1.0     0.0     0.0   \n",
       "3      0.00    0.00  ...     1.0     1.0     0.0     0.0     0.0     0.0   \n",
       "4      1.32    1.28  ...     0.0     1.0     0.0     1.0     0.0     0.0   \n",
       "..      ...     ...  ...     ...     ...     ...     ...     ...     ...   \n",
       "247    0.39    0.44  ...     0.0     0.0     1.0     0.0     0.0     1.0   \n",
       "248    0.59    1.87  ...     0.0     0.0     0.0     0.0     1.0     1.0   \n",
       "249    1.29    1.90  ...     0.0     0.0     0.0     1.0     1.0     1.0   \n",
       "250    0.36    0.00  ...     1.0     1.0     0.0     0.0     0.0     0.0   \n",
       "251    0.16    0.00  ...     1.0     1.0     0.0     0.0     0.0     0.0   \n",
       "\n",
       "     AU28_c  AU45_c             file   emotion  \n",
       "0       0.0     0.0  s013-01_img.bmp       joy  \n",
       "1       0.0     0.0  s002-04_img.bmp     anger  \n",
       "2       1.0     0.0  s006-04_img.bmp     anger  \n",
       "3       1.0     0.0  s009-02_img.bmp   sadness  \n",
       "4       1.0     0.0  s003-04_img.bmp     anger  \n",
       "..      ...     ...              ...       ...  \n",
       "247     0.0     0.0  s016-03_img.bmp  surprise  \n",
       "248     0.0     0.0  s009-01_img.bmp       joy  \n",
       "249     0.0     0.0  s028-01_img.bmp       joy  \n",
       "250     1.0     0.0  s038-04_img.bmp     anger  \n",
       "251     1.0     0.0  s023-02_img.bmp   sadness  \n",
       "\n",
       "[252 rows x 38 columns]"
      ]
     },
     "execution_count": 14,
     "metadata": {},
     "output_type": "execute_result"
    }
   ],
   "source": [
    "facesdb_featrues_labels = facesdb_all_processed_features.merge(facesdb_labels_df, on=\"file\")\n",
    "facesdb_featrues_labels"
   ]
  },
  {
   "cell_type": "markdown",
   "metadata": {},
   "source": [
    "### Use Sklearn Implementation of Classifers"
   ]
  },
  {
   "cell_type": "code",
   "execution_count": 15,
   "metadata": {},
   "outputs": [],
   "source": [
    "from joblib import dump, load"
   ]
  },
  {
   "cell_type": "code",
   "execution_count": 16,
   "metadata": {},
   "outputs": [],
   "source": [
    "from sklearn.model_selection import train_test_split"
   ]
  },
  {
   "cell_type": "code",
   "execution_count": 17,
   "metadata": {},
   "outputs": [
    {
     "data": {
      "text/html": [
       "<div>\n",
       "<style scoped>\n",
       "    .dataframe tbody tr th:only-of-type {\n",
       "        vertical-align: middle;\n",
       "    }\n",
       "\n",
       "    .dataframe tbody tr th {\n",
       "        vertical-align: top;\n",
       "    }\n",
       "\n",
       "    .dataframe thead th {\n",
       "        text-align: right;\n",
       "    }\n",
       "</style>\n",
       "<table border=\"1\" class=\"dataframe\">\n",
       "  <thead>\n",
       "    <tr style=\"text-align: right;\">\n",
       "      <th></th>\n",
       "      <th>AU01_r</th>\n",
       "      <th>AU02_r</th>\n",
       "      <th>AU04_r</th>\n",
       "      <th>AU05_r</th>\n",
       "      <th>AU06_r</th>\n",
       "      <th>AU07_r</th>\n",
       "      <th>AU09_r</th>\n",
       "      <th>AU10_r</th>\n",
       "      <th>AU12_r</th>\n",
       "      <th>AU14_r</th>\n",
       "      <th>AU15_r</th>\n",
       "      <th>AU17_r</th>\n",
       "      <th>AU20_r</th>\n",
       "      <th>AU23_r</th>\n",
       "      <th>AU25_r</th>\n",
       "      <th>AU26_r</th>\n",
       "      <th>AU45_r</th>\n",
       "    </tr>\n",
       "  </thead>\n",
       "  <tbody>\n",
       "    <tr>\n",
       "      <th>0</th>\n",
       "      <td>0.26</td>\n",
       "      <td>0.95</td>\n",
       "      <td>0.07</td>\n",
       "      <td>0.22</td>\n",
       "      <td>1.10</td>\n",
       "      <td>0.80</td>\n",
       "      <td>0.75</td>\n",
       "      <td>1.02</td>\n",
       "      <td>2.07</td>\n",
       "      <td>1.18</td>\n",
       "      <td>0.00</td>\n",
       "      <td>0.00</td>\n",
       "      <td>0.46</td>\n",
       "      <td>0.00</td>\n",
       "      <td>1.23</td>\n",
       "      <td>0.21</td>\n",
       "      <td>0.00</td>\n",
       "    </tr>\n",
       "    <tr>\n",
       "      <th>1</th>\n",
       "      <td>0.62</td>\n",
       "      <td>1.29</td>\n",
       "      <td>1.99</td>\n",
       "      <td>1.47</td>\n",
       "      <td>0.64</td>\n",
       "      <td>2.60</td>\n",
       "      <td>1.79</td>\n",
       "      <td>0.00</td>\n",
       "      <td>0.00</td>\n",
       "      <td>0.75</td>\n",
       "      <td>0.00</td>\n",
       "      <td>0.43</td>\n",
       "      <td>0.01</td>\n",
       "      <td>0.03</td>\n",
       "      <td>0.00</td>\n",
       "      <td>0.00</td>\n",
       "      <td>0.00</td>\n",
       "    </tr>\n",
       "    <tr>\n",
       "      <th>2</th>\n",
       "      <td>0.61</td>\n",
       "      <td>0.00</td>\n",
       "      <td>1.49</td>\n",
       "      <td>0.41</td>\n",
       "      <td>0.40</td>\n",
       "      <td>1.07</td>\n",
       "      <td>0.00</td>\n",
       "      <td>0.00</td>\n",
       "      <td>1.17</td>\n",
       "      <td>1.49</td>\n",
       "      <td>0.00</td>\n",
       "      <td>1.46</td>\n",
       "      <td>0.46</td>\n",
       "      <td>0.90</td>\n",
       "      <td>0.00</td>\n",
       "      <td>1.05</td>\n",
       "      <td>0.00</td>\n",
       "    </tr>\n",
       "    <tr>\n",
       "      <th>3</th>\n",
       "      <td>0.66</td>\n",
       "      <td>0.35</td>\n",
       "      <td>1.61</td>\n",
       "      <td>0.27</td>\n",
       "      <td>0.37</td>\n",
       "      <td>1.26</td>\n",
       "      <td>1.17</td>\n",
       "      <td>0.00</td>\n",
       "      <td>0.00</td>\n",
       "      <td>0.00</td>\n",
       "      <td>0.48</td>\n",
       "      <td>1.15</td>\n",
       "      <td>0.00</td>\n",
       "      <td>0.00</td>\n",
       "      <td>0.00</td>\n",
       "      <td>0.00</td>\n",
       "      <td>0.00</td>\n",
       "    </tr>\n",
       "    <tr>\n",
       "      <th>4</th>\n",
       "      <td>1.65</td>\n",
       "      <td>0.13</td>\n",
       "      <td>2.89</td>\n",
       "      <td>0.00</td>\n",
       "      <td>1.50</td>\n",
       "      <td>0.89</td>\n",
       "      <td>0.42</td>\n",
       "      <td>1.32</td>\n",
       "      <td>1.28</td>\n",
       "      <td>2.45</td>\n",
       "      <td>0.00</td>\n",
       "      <td>2.04</td>\n",
       "      <td>0.00</td>\n",
       "      <td>1.26</td>\n",
       "      <td>0.00</td>\n",
       "      <td>0.04</td>\n",
       "      <td>0.24</td>\n",
       "    </tr>\n",
       "    <tr>\n",
       "      <th>...</th>\n",
       "      <td>...</td>\n",
       "      <td>...</td>\n",
       "      <td>...</td>\n",
       "      <td>...</td>\n",
       "      <td>...</td>\n",
       "      <td>...</td>\n",
       "      <td>...</td>\n",
       "      <td>...</td>\n",
       "      <td>...</td>\n",
       "      <td>...</td>\n",
       "      <td>...</td>\n",
       "      <td>...</td>\n",
       "      <td>...</td>\n",
       "      <td>...</td>\n",
       "      <td>...</td>\n",
       "      <td>...</td>\n",
       "      <td>...</td>\n",
       "    </tr>\n",
       "    <tr>\n",
       "      <th>247</th>\n",
       "      <td>1.57</td>\n",
       "      <td>4.08</td>\n",
       "      <td>0.00</td>\n",
       "      <td>3.04</td>\n",
       "      <td>0.00</td>\n",
       "      <td>1.53</td>\n",
       "      <td>1.04</td>\n",
       "      <td>0.39</td>\n",
       "      <td>0.44</td>\n",
       "      <td>0.90</td>\n",
       "      <td>0.00</td>\n",
       "      <td>0.34</td>\n",
       "      <td>0.25</td>\n",
       "      <td>0.02</td>\n",
       "      <td>0.11</td>\n",
       "      <td>1.95</td>\n",
       "      <td>0.00</td>\n",
       "    </tr>\n",
       "    <tr>\n",
       "      <th>248</th>\n",
       "      <td>0.51</td>\n",
       "      <td>1.43</td>\n",
       "      <td>0.00</td>\n",
       "      <td>1.61</td>\n",
       "      <td>1.01</td>\n",
       "      <td>1.79</td>\n",
       "      <td>1.29</td>\n",
       "      <td>0.59</td>\n",
       "      <td>1.87</td>\n",
       "      <td>0.80</td>\n",
       "      <td>0.00</td>\n",
       "      <td>0.00</td>\n",
       "      <td>0.00</td>\n",
       "      <td>0.00</td>\n",
       "      <td>2.05</td>\n",
       "      <td>1.09</td>\n",
       "      <td>0.00</td>\n",
       "    </tr>\n",
       "    <tr>\n",
       "      <th>249</th>\n",
       "      <td>0.17</td>\n",
       "      <td>0.81</td>\n",
       "      <td>1.59</td>\n",
       "      <td>0.90</td>\n",
       "      <td>1.33</td>\n",
       "      <td>1.68</td>\n",
       "      <td>0.82</td>\n",
       "      <td>1.29</td>\n",
       "      <td>1.90</td>\n",
       "      <td>0.54</td>\n",
       "      <td>0.27</td>\n",
       "      <td>0.26</td>\n",
       "      <td>0.00</td>\n",
       "      <td>0.10</td>\n",
       "      <td>2.09</td>\n",
       "      <td>1.60</td>\n",
       "      <td>0.00</td>\n",
       "    </tr>\n",
       "    <tr>\n",
       "      <th>250</th>\n",
       "      <td>0.00</td>\n",
       "      <td>0.20</td>\n",
       "      <td>2.00</td>\n",
       "      <td>0.52</td>\n",
       "      <td>1.66</td>\n",
       "      <td>2.01</td>\n",
       "      <td>1.72</td>\n",
       "      <td>0.36</td>\n",
       "      <td>0.00</td>\n",
       "      <td>0.45</td>\n",
       "      <td>0.95</td>\n",
       "      <td>1.95</td>\n",
       "      <td>0.38</td>\n",
       "      <td>0.22</td>\n",
       "      <td>0.00</td>\n",
       "      <td>0.00</td>\n",
       "      <td>0.00</td>\n",
       "    </tr>\n",
       "    <tr>\n",
       "      <th>251</th>\n",
       "      <td>0.66</td>\n",
       "      <td>1.40</td>\n",
       "      <td>0.00</td>\n",
       "      <td>2.40</td>\n",
       "      <td>0.14</td>\n",
       "      <td>0.00</td>\n",
       "      <td>0.80</td>\n",
       "      <td>0.16</td>\n",
       "      <td>0.00</td>\n",
       "      <td>0.40</td>\n",
       "      <td>0.30</td>\n",
       "      <td>1.68</td>\n",
       "      <td>0.00</td>\n",
       "      <td>0.55</td>\n",
       "      <td>0.00</td>\n",
       "      <td>0.05</td>\n",
       "      <td>0.00</td>\n",
       "    </tr>\n",
       "  </tbody>\n",
       "</table>\n",
       "<p>252 rows × 17 columns</p>\n",
       "</div>"
      ],
      "text/plain": [
       "     AU01_r  AU02_r  AU04_r  AU05_r  AU06_r  AU07_r  AU09_r  AU10_r  AU12_r  \\\n",
       "0      0.26    0.95    0.07    0.22    1.10    0.80    0.75    1.02    2.07   \n",
       "1      0.62    1.29    1.99    1.47    0.64    2.60    1.79    0.00    0.00   \n",
       "2      0.61    0.00    1.49    0.41    0.40    1.07    0.00    0.00    1.17   \n",
       "3      0.66    0.35    1.61    0.27    0.37    1.26    1.17    0.00    0.00   \n",
       "4      1.65    0.13    2.89    0.00    1.50    0.89    0.42    1.32    1.28   \n",
       "..      ...     ...     ...     ...     ...     ...     ...     ...     ...   \n",
       "247    1.57    4.08    0.00    3.04    0.00    1.53    1.04    0.39    0.44   \n",
       "248    0.51    1.43    0.00    1.61    1.01    1.79    1.29    0.59    1.87   \n",
       "249    0.17    0.81    1.59    0.90    1.33    1.68    0.82    1.29    1.90   \n",
       "250    0.00    0.20    2.00    0.52    1.66    2.01    1.72    0.36    0.00   \n",
       "251    0.66    1.40    0.00    2.40    0.14    0.00    0.80    0.16    0.00   \n",
       "\n",
       "     AU14_r  AU15_r  AU17_r  AU20_r  AU23_r  AU25_r  AU26_r  AU45_r  \n",
       "0      1.18    0.00    0.00    0.46    0.00    1.23    0.21    0.00  \n",
       "1      0.75    0.00    0.43    0.01    0.03    0.00    0.00    0.00  \n",
       "2      1.49    0.00    1.46    0.46    0.90    0.00    1.05    0.00  \n",
       "3      0.00    0.48    1.15    0.00    0.00    0.00    0.00    0.00  \n",
       "4      2.45    0.00    2.04    0.00    1.26    0.00    0.04    0.24  \n",
       "..      ...     ...     ...     ...     ...     ...     ...     ...  \n",
       "247    0.90    0.00    0.34    0.25    0.02    0.11    1.95    0.00  \n",
       "248    0.80    0.00    0.00    0.00    0.00    2.05    1.09    0.00  \n",
       "249    0.54    0.27    0.26    0.00    0.10    2.09    1.60    0.00  \n",
       "250    0.45    0.95    1.95    0.38    0.22    0.00    0.00    0.00  \n",
       "251    0.40    0.30    1.68    0.00    0.55    0.00    0.05    0.00  \n",
       "\n",
       "[252 rows x 17 columns]"
      ]
     },
     "execution_count": 17,
     "metadata": {},
     "output_type": "execute_result"
    }
   ],
   "source": [
    "faces_X_r = facesdb_featrues_labels.iloc[:,1:18]\n",
    "faces_X_r"
   ]
  },
  {
   "cell_type": "code",
   "execution_count": 18,
   "metadata": {},
   "outputs": [
    {
     "data": {
      "text/html": [
       "<div>\n",
       "<style scoped>\n",
       "    .dataframe tbody tr th:only-of-type {\n",
       "        vertical-align: middle;\n",
       "    }\n",
       "\n",
       "    .dataframe tbody tr th {\n",
       "        vertical-align: top;\n",
       "    }\n",
       "\n",
       "    .dataframe thead th {\n",
       "        text-align: right;\n",
       "    }\n",
       "</style>\n",
       "<table border=\"1\" class=\"dataframe\">\n",
       "  <thead>\n",
       "    <tr style=\"text-align: right;\">\n",
       "      <th></th>\n",
       "      <th>AU01_c</th>\n",
       "      <th>AU02_c</th>\n",
       "      <th>AU04_c</th>\n",
       "      <th>AU05_c</th>\n",
       "      <th>AU06_c</th>\n",
       "      <th>AU07_c</th>\n",
       "      <th>AU09_c</th>\n",
       "      <th>AU10_c</th>\n",
       "      <th>AU12_c</th>\n",
       "      <th>AU14_c</th>\n",
       "      <th>AU15_c</th>\n",
       "      <th>AU17_c</th>\n",
       "      <th>AU20_c</th>\n",
       "      <th>AU23_c</th>\n",
       "      <th>AU25_c</th>\n",
       "      <th>AU26_c</th>\n",
       "      <th>AU28_c</th>\n",
       "      <th>AU45_c</th>\n",
       "    </tr>\n",
       "  </thead>\n",
       "  <tbody>\n",
       "    <tr>\n",
       "      <th>0</th>\n",
       "      <td>0.0</td>\n",
       "      <td>1.0</td>\n",
       "      <td>0.0</td>\n",
       "      <td>0.0</td>\n",
       "      <td>1.0</td>\n",
       "      <td>1.0</td>\n",
       "      <td>0.0</td>\n",
       "      <td>1.0</td>\n",
       "      <td>1.0</td>\n",
       "      <td>1.0</td>\n",
       "      <td>0.0</td>\n",
       "      <td>0.0</td>\n",
       "      <td>0.0</td>\n",
       "      <td>0.0</td>\n",
       "      <td>1.0</td>\n",
       "      <td>1.0</td>\n",
       "      <td>0.0</td>\n",
       "      <td>0.0</td>\n",
       "    </tr>\n",
       "    <tr>\n",
       "      <th>1</th>\n",
       "      <td>0.0</td>\n",
       "      <td>0.0</td>\n",
       "      <td>1.0</td>\n",
       "      <td>1.0</td>\n",
       "      <td>0.0</td>\n",
       "      <td>1.0</td>\n",
       "      <td>0.0</td>\n",
       "      <td>0.0</td>\n",
       "      <td>0.0</td>\n",
       "      <td>0.0</td>\n",
       "      <td>0.0</td>\n",
       "      <td>0.0</td>\n",
       "      <td>0.0</td>\n",
       "      <td>0.0</td>\n",
       "      <td>0.0</td>\n",
       "      <td>0.0</td>\n",
       "      <td>0.0</td>\n",
       "      <td>0.0</td>\n",
       "    </tr>\n",
       "    <tr>\n",
       "      <th>2</th>\n",
       "      <td>0.0</td>\n",
       "      <td>0.0</td>\n",
       "      <td>1.0</td>\n",
       "      <td>0.0</td>\n",
       "      <td>0.0</td>\n",
       "      <td>1.0</td>\n",
       "      <td>0.0</td>\n",
       "      <td>0.0</td>\n",
       "      <td>1.0</td>\n",
       "      <td>1.0</td>\n",
       "      <td>0.0</td>\n",
       "      <td>1.0</td>\n",
       "      <td>1.0</td>\n",
       "      <td>1.0</td>\n",
       "      <td>0.0</td>\n",
       "      <td>0.0</td>\n",
       "      <td>1.0</td>\n",
       "      <td>0.0</td>\n",
       "    </tr>\n",
       "    <tr>\n",
       "      <th>3</th>\n",
       "      <td>0.0</td>\n",
       "      <td>0.0</td>\n",
       "      <td>1.0</td>\n",
       "      <td>0.0</td>\n",
       "      <td>0.0</td>\n",
       "      <td>1.0</td>\n",
       "      <td>1.0</td>\n",
       "      <td>0.0</td>\n",
       "      <td>0.0</td>\n",
       "      <td>0.0</td>\n",
       "      <td>1.0</td>\n",
       "      <td>1.0</td>\n",
       "      <td>0.0</td>\n",
       "      <td>0.0</td>\n",
       "      <td>0.0</td>\n",
       "      <td>0.0</td>\n",
       "      <td>1.0</td>\n",
       "      <td>0.0</td>\n",
       "    </tr>\n",
       "    <tr>\n",
       "      <th>4</th>\n",
       "      <td>1.0</td>\n",
       "      <td>0.0</td>\n",
       "      <td>1.0</td>\n",
       "      <td>0.0</td>\n",
       "      <td>1.0</td>\n",
       "      <td>1.0</td>\n",
       "      <td>0.0</td>\n",
       "      <td>1.0</td>\n",
       "      <td>1.0</td>\n",
       "      <td>1.0</td>\n",
       "      <td>0.0</td>\n",
       "      <td>1.0</td>\n",
       "      <td>0.0</td>\n",
       "      <td>1.0</td>\n",
       "      <td>0.0</td>\n",
       "      <td>0.0</td>\n",
       "      <td>1.0</td>\n",
       "      <td>0.0</td>\n",
       "    </tr>\n",
       "    <tr>\n",
       "      <th>...</th>\n",
       "      <td>...</td>\n",
       "      <td>...</td>\n",
       "      <td>...</td>\n",
       "      <td>...</td>\n",
       "      <td>...</td>\n",
       "      <td>...</td>\n",
       "      <td>...</td>\n",
       "      <td>...</td>\n",
       "      <td>...</td>\n",
       "      <td>...</td>\n",
       "      <td>...</td>\n",
       "      <td>...</td>\n",
       "      <td>...</td>\n",
       "      <td>...</td>\n",
       "      <td>...</td>\n",
       "      <td>...</td>\n",
       "      <td>...</td>\n",
       "      <td>...</td>\n",
       "    </tr>\n",
       "    <tr>\n",
       "      <th>247</th>\n",
       "      <td>1.0</td>\n",
       "      <td>1.0</td>\n",
       "      <td>0.0</td>\n",
       "      <td>1.0</td>\n",
       "      <td>0.0</td>\n",
       "      <td>0.0</td>\n",
       "      <td>0.0</td>\n",
       "      <td>0.0</td>\n",
       "      <td>0.0</td>\n",
       "      <td>1.0</td>\n",
       "      <td>0.0</td>\n",
       "      <td>0.0</td>\n",
       "      <td>1.0</td>\n",
       "      <td>0.0</td>\n",
       "      <td>0.0</td>\n",
       "      <td>1.0</td>\n",
       "      <td>0.0</td>\n",
       "      <td>0.0</td>\n",
       "    </tr>\n",
       "    <tr>\n",
       "      <th>248</th>\n",
       "      <td>1.0</td>\n",
       "      <td>1.0</td>\n",
       "      <td>0.0</td>\n",
       "      <td>1.0</td>\n",
       "      <td>0.0</td>\n",
       "      <td>0.0</td>\n",
       "      <td>1.0</td>\n",
       "      <td>1.0</td>\n",
       "      <td>1.0</td>\n",
       "      <td>0.0</td>\n",
       "      <td>0.0</td>\n",
       "      <td>0.0</td>\n",
       "      <td>0.0</td>\n",
       "      <td>0.0</td>\n",
       "      <td>1.0</td>\n",
       "      <td>1.0</td>\n",
       "      <td>0.0</td>\n",
       "      <td>0.0</td>\n",
       "    </tr>\n",
       "    <tr>\n",
       "      <th>249</th>\n",
       "      <td>0.0</td>\n",
       "      <td>1.0</td>\n",
       "      <td>0.0</td>\n",
       "      <td>0.0</td>\n",
       "      <td>1.0</td>\n",
       "      <td>1.0</td>\n",
       "      <td>1.0</td>\n",
       "      <td>1.0</td>\n",
       "      <td>1.0</td>\n",
       "      <td>0.0</td>\n",
       "      <td>0.0</td>\n",
       "      <td>0.0</td>\n",
       "      <td>0.0</td>\n",
       "      <td>1.0</td>\n",
       "      <td>1.0</td>\n",
       "      <td>1.0</td>\n",
       "      <td>0.0</td>\n",
       "      <td>0.0</td>\n",
       "    </tr>\n",
       "    <tr>\n",
       "      <th>250</th>\n",
       "      <td>0.0</td>\n",
       "      <td>0.0</td>\n",
       "      <td>1.0</td>\n",
       "      <td>0.0</td>\n",
       "      <td>1.0</td>\n",
       "      <td>1.0</td>\n",
       "      <td>1.0</td>\n",
       "      <td>0.0</td>\n",
       "      <td>0.0</td>\n",
       "      <td>0.0</td>\n",
       "      <td>1.0</td>\n",
       "      <td>1.0</td>\n",
       "      <td>0.0</td>\n",
       "      <td>0.0</td>\n",
       "      <td>0.0</td>\n",
       "      <td>0.0</td>\n",
       "      <td>1.0</td>\n",
       "      <td>0.0</td>\n",
       "    </tr>\n",
       "    <tr>\n",
       "      <th>251</th>\n",
       "      <td>0.0</td>\n",
       "      <td>1.0</td>\n",
       "      <td>0.0</td>\n",
       "      <td>1.0</td>\n",
       "      <td>0.0</td>\n",
       "      <td>1.0</td>\n",
       "      <td>1.0</td>\n",
       "      <td>0.0</td>\n",
       "      <td>0.0</td>\n",
       "      <td>0.0</td>\n",
       "      <td>1.0</td>\n",
       "      <td>1.0</td>\n",
       "      <td>0.0</td>\n",
       "      <td>0.0</td>\n",
       "      <td>0.0</td>\n",
       "      <td>0.0</td>\n",
       "      <td>1.0</td>\n",
       "      <td>0.0</td>\n",
       "    </tr>\n",
       "  </tbody>\n",
       "</table>\n",
       "<p>252 rows × 18 columns</p>\n",
       "</div>"
      ],
      "text/plain": [
       "     AU01_c  AU02_c  AU04_c  AU05_c  AU06_c  AU07_c  AU09_c  AU10_c  AU12_c  \\\n",
       "0       0.0     1.0     0.0     0.0     1.0     1.0     0.0     1.0     1.0   \n",
       "1       0.0     0.0     1.0     1.0     0.0     1.0     0.0     0.0     0.0   \n",
       "2       0.0     0.0     1.0     0.0     0.0     1.0     0.0     0.0     1.0   \n",
       "3       0.0     0.0     1.0     0.0     0.0     1.0     1.0     0.0     0.0   \n",
       "4       1.0     0.0     1.0     0.0     1.0     1.0     0.0     1.0     1.0   \n",
       "..      ...     ...     ...     ...     ...     ...     ...     ...     ...   \n",
       "247     1.0     1.0     0.0     1.0     0.0     0.0     0.0     0.0     0.0   \n",
       "248     1.0     1.0     0.0     1.0     0.0     0.0     1.0     1.0     1.0   \n",
       "249     0.0     1.0     0.0     0.0     1.0     1.0     1.0     1.0     1.0   \n",
       "250     0.0     0.0     1.0     0.0     1.0     1.0     1.0     0.0     0.0   \n",
       "251     0.0     1.0     0.0     1.0     0.0     1.0     1.0     0.0     0.0   \n",
       "\n",
       "     AU14_c  AU15_c  AU17_c  AU20_c  AU23_c  AU25_c  AU26_c  AU28_c  AU45_c  \n",
       "0       1.0     0.0     0.0     0.0     0.0     1.0     1.0     0.0     0.0  \n",
       "1       0.0     0.0     0.0     0.0     0.0     0.0     0.0     0.0     0.0  \n",
       "2       1.0     0.0     1.0     1.0     1.0     0.0     0.0     1.0     0.0  \n",
       "3       0.0     1.0     1.0     0.0     0.0     0.0     0.0     1.0     0.0  \n",
       "4       1.0     0.0     1.0     0.0     1.0     0.0     0.0     1.0     0.0  \n",
       "..      ...     ...     ...     ...     ...     ...     ...     ...     ...  \n",
       "247     1.0     0.0     0.0     1.0     0.0     0.0     1.0     0.0     0.0  \n",
       "248     0.0     0.0     0.0     0.0     0.0     1.0     1.0     0.0     0.0  \n",
       "249     0.0     0.0     0.0     0.0     1.0     1.0     1.0     0.0     0.0  \n",
       "250     0.0     1.0     1.0     0.0     0.0     0.0     0.0     1.0     0.0  \n",
       "251     0.0     1.0     1.0     0.0     0.0     0.0     0.0     1.0     0.0  \n",
       "\n",
       "[252 rows x 18 columns]"
      ]
     },
     "execution_count": 18,
     "metadata": {},
     "output_type": "execute_result"
    }
   ],
   "source": [
    "faces_X_c = facesdb_featrues_labels.iloc[:,18:36]\n",
    "faces_X_c"
   ]
  },
  {
   "cell_type": "code",
   "execution_count": 19,
   "metadata": {
    "scrolled": true
   },
   "outputs": [
    {
     "data": {
      "text/html": [
       "<div>\n",
       "<style scoped>\n",
       "    .dataframe tbody tr th:only-of-type {\n",
       "        vertical-align: middle;\n",
       "    }\n",
       "\n",
       "    .dataframe tbody tr th {\n",
       "        vertical-align: top;\n",
       "    }\n",
       "\n",
       "    .dataframe thead th {\n",
       "        text-align: right;\n",
       "    }\n",
       "</style>\n",
       "<table border=\"1\" class=\"dataframe\">\n",
       "  <thead>\n",
       "    <tr style=\"text-align: right;\">\n",
       "      <th></th>\n",
       "      <th>emotion</th>\n",
       "    </tr>\n",
       "  </thead>\n",
       "  <tbody>\n",
       "    <tr>\n",
       "      <th>0</th>\n",
       "      <td>joy</td>\n",
       "    </tr>\n",
       "    <tr>\n",
       "      <th>1</th>\n",
       "      <td>anger</td>\n",
       "    </tr>\n",
       "    <tr>\n",
       "      <th>2</th>\n",
       "      <td>anger</td>\n",
       "    </tr>\n",
       "    <tr>\n",
       "      <th>3</th>\n",
       "      <td>sadness</td>\n",
       "    </tr>\n",
       "    <tr>\n",
       "      <th>4</th>\n",
       "      <td>anger</td>\n",
       "    </tr>\n",
       "    <tr>\n",
       "      <th>...</th>\n",
       "      <td>...</td>\n",
       "    </tr>\n",
       "    <tr>\n",
       "      <th>247</th>\n",
       "      <td>surprise</td>\n",
       "    </tr>\n",
       "    <tr>\n",
       "      <th>248</th>\n",
       "      <td>joy</td>\n",
       "    </tr>\n",
       "    <tr>\n",
       "      <th>249</th>\n",
       "      <td>joy</td>\n",
       "    </tr>\n",
       "    <tr>\n",
       "      <th>250</th>\n",
       "      <td>anger</td>\n",
       "    </tr>\n",
       "    <tr>\n",
       "      <th>251</th>\n",
       "      <td>sadness</td>\n",
       "    </tr>\n",
       "  </tbody>\n",
       "</table>\n",
       "<p>252 rows × 1 columns</p>\n",
       "</div>"
      ],
      "text/plain": [
       "      emotion\n",
       "0         joy\n",
       "1       anger\n",
       "2       anger\n",
       "3     sadness\n",
       "4       anger\n",
       "..        ...\n",
       "247  surprise\n",
       "248       joy\n",
       "249       joy\n",
       "250     anger\n",
       "251   sadness\n",
       "\n",
       "[252 rows x 1 columns]"
      ]
     },
     "execution_count": 19,
     "metadata": {},
     "output_type": "execute_result"
    }
   ],
   "source": [
    "faces_y = facesdb_featrues_labels.iloc[:,-1:]\n",
    "faces_y"
   ]
  },
  {
   "cell_type": "markdown",
   "metadata": {},
   "source": [
    "Multilabel"
   ]
  },
  {
   "cell_type": "code",
   "execution_count": 20,
   "metadata": {},
   "outputs": [],
   "source": [
    "faces_X_r_train, faces_X_r_test, faces_y_train, faces_y_test = train_test_split(faces_X_r, faces_y, test_size=0.33, random_state=98)\n",
    "faces_X_c_train, faces_X_c_test, faces_y_train, faces_y_test = train_test_split(faces_X_c, faces_y, test_size=0.33, random_state=98)"
   ]
  },
  {
   "cell_type": "markdown",
   "metadata": {},
   "source": [
    "Try AU_r first"
   ]
  },
  {
   "cell_type": "code",
   "execution_count": 21,
   "metadata": {},
   "outputs": [],
   "source": [
    "from sklearn.decomposition import PCA\n",
    "import numpy as np"
   ]
  },
  {
   "cell_type": "code",
   "execution_count": 22,
   "metadata": {},
   "outputs": [],
   "source": [
    "can_n_components = range(1, 18, 1)\n",
    "ratios = []\n",
    "for n in can_n_components:\n",
    "    pca = PCA(n_components=n)\n",
    "    faces_X_r_pca = pca.fit_transform(faces_X_r)\n",
    "    ratios.append(np.sum(pca.explained_variance_ratio_))"
   ]
  },
  {
   "cell_type": "code",
   "execution_count": 23,
   "metadata": {},
   "outputs": [],
   "source": [
    "from matplotlib import pyplot as plt"
   ]
  },
  {
   "cell_type": "code",
   "execution_count": 24,
   "metadata": {},
   "outputs": [
    {
     "data": {
      "image/png": "[encoded data removed]",
      "text/plain": [
       "<Figure size 720x360 with 1 Axes>"
      ]
     },
     "metadata": {
      "needs_background": "light"
     },
     "output_type": "display_data"
    }
   ],
   "source": [
    "plt.figure(figsize=(10, 5))\n",
    "plt.grid()\n",
    "plt.plot(can_n_components, ratios)\n",
    "plt.xlabel('Number of PCA Components')\n",
    "plt.ylabel('Explained Variance Ratio')\n",
    "plt.title('Explained variance ratio for PCA')\n",
    "plt.yticks(np.arange(0.2, 1.05, .05))\n",
    "plt.xticks(np.arange(1, 18, 1));"
   ]
  },
  {
   "cell_type": "markdown",
   "metadata": {},
   "source": [
    "Let's choose 95% explained variance ratio, so n = 9"
   ]
  },
  {
   "cell_type": "code",
   "execution_count": 25,
   "metadata": {},
   "outputs": [],
   "source": [
    "n = 9\n",
    "pca_r = PCA(n_components=n, svd_solver='randomized', whiten=True).fit(faces_X_r_train)\n",
    "faces_X_r_train_pca = pca_r.transform(faces_X_r_train)\n",
    "faces_X_r_test_pca = pca_r.transform(faces_X_r_test)"
   ]
  },
  {
   "cell_type": "markdown",
   "metadata": {},
   "source": [
    "#### Try SVM"
   ]
  },
  {
   "cell_type": "markdown",
   "metadata": {},
   "source": [
    "On AU_r"
   ]
  },
  {
   "cell_type": "code",
   "execution_count": 26,
   "metadata": {},
   "outputs": [],
   "source": [
    "from sklearn.model_selection import GridSearchCV\n",
    "from sklearn.multioutput import MultiOutputClassifier\n",
    "from sklearn.svm import SVC"
   ]
  },
  {
   "cell_type": "code",
   "execution_count": 27,
   "metadata": {
    "scrolled": true
   },
   "outputs": [
    {
     "name": "stdout",
     "output_type": "stream",
     "text": [
      "Searching the best parameters for SVC...\n",
      "Fitting 5 folds for each of 240 candidates, totalling 1200 fits\n"
     ]
    },
    {
     "name": "stderr",
     "output_type": "stream",
     "text": [
      "[Parallel(n_jobs=6)]: Using backend LokyBackend with 6 concurrent workers.\n",
      "[Parallel(n_jobs=6)]: Done  46 tasks      | elapsed:    1.1s\n"
     ]
    },
    {
     "name": "stdout",
     "output_type": "stream",
     "text": [
      "Best parameters for SVC: {'estimator__C': 70, 'estimator__class_weight': None, 'estimator__decision_function_shape': 'ovo', 'estimator__gamma': 0.0005, 'estimator__probability': True}\n"
     ]
    },
    {
     "name": "stderr",
     "output_type": "stream",
     "text": [
      "[Parallel(n_jobs=6)]: Done 1200 out of 1200 | elapsed:    4.1s finished\n"
     ]
    }
   ],
   "source": [
    "print(\"Searching the best parameters for SVC...\")\n",
    "param_grid = {\n",
    "    \"estimator__C\": np.arange(10,100,20),\n",
    "    \"estimator__gamma\": [0.0001, 0.0005, 0.001, 0.005, 0.0025, 0.01],\n",
    "    \"estimator__class_weight\": [None, \"balanced\"],\n",
    "    \"estimator__decision_function_shape\": [\"ovo\", \"ovr\"],\n",
    "    \"estimator__probability\": [True, False]\n",
    "}\n",
    "svm_faces_aur_clf = GridSearchCV(\n",
    "    MultiOutputClassifier(\n",
    "        SVC()\n",
    "    ), \n",
    "    param_grid, \n",
    "    verbose=1, \n",
    "    n_jobs=6\n",
    ")\n",
    "svm_faces_aur_clf = svm_faces_aur_clf.fit(faces_X_r_train_pca, faces_y_train)\n",
    "print(f\"Best parameters for SVC: {svm_faces_aur_clf.best_params_}\")"
   ]
  },
  {
   "cell_type": "code",
   "execution_count": 28,
   "metadata": {
    "scrolled": false
   },
   "outputs": [
    {
     "data": {
      "text/plain": [
       "0.6309523809523809"
      ]
     },
     "execution_count": 28,
     "metadata": {},
     "output_type": "execute_result"
    }
   ],
   "source": [
    "svm_faces_aur_clf.best_estimator_.score(faces_X_r_test_pca, faces_y_test)"
   ]
  },
  {
   "cell_type": "code",
   "execution_count": 29,
   "metadata": {},
   "outputs": [
    {
     "data": {
      "text/plain": [
       "['svm_faces_aur_clf.joblib']"
      ]
     },
     "execution_count": 29,
     "metadata": {},
     "output_type": "execute_result"
    }
   ],
   "source": [
    "dump(svm_faces_aur_clf, 'svm_faces_aur_clf.joblib')"
   ]
  },
  {
   "cell_type": "markdown",
   "metadata": {},
   "source": [
    "On AU_c"
   ]
  },
  {
   "cell_type": "code",
   "execution_count": 30,
   "metadata": {},
   "outputs": [],
   "source": [
    "can_n_components = range(1, 18, 1)\n",
    "ratios = []\n",
    "for n in can_n_components:\n",
    "    pca = PCA(n_components=n)\n",
    "    faces_X_c_pca = pca.fit_transform(faces_X_r)\n",
    "    ratios.append(np.sum(pca.explained_variance_ratio_))"
   ]
  },
  {
   "cell_type": "code",
   "execution_count": 31,
   "metadata": {
    "scrolled": true
   },
   "outputs": [
    {
     "data": {
      "image/png": "[encoded data removed]",
      "text/plain": [
       "<Figure size 720x360 with 1 Axes>"
      ]
     },
     "metadata": {
      "needs_background": "light"
     },
     "output_type": "display_data"
    }
   ],
   "source": [
    "plt.figure(figsize=(10, 5))\n",
    "plt.grid()\n",
    "plt.plot(can_n_components, ratios)\n",
    "plt.xlabel('Number of PCA Components')\n",
    "plt.ylabel('Explained Variance Ratio')\n",
    "plt.title('Explained variance ratio for PCA')\n",
    "plt.yticks(np.arange(0.2, 1.05, .05))\n",
    "plt.xticks(np.arange(1, 18, 1));"
   ]
  },
  {
   "cell_type": "code",
   "execution_count": 32,
   "metadata": {},
   "outputs": [],
   "source": [
    "n = 11\n",
    "pca_c = PCA(n_components=n, svd_solver='randomized', whiten=True).fit(faces_X_c_train)\n",
    "faces_X_c_train_pca = pca_c.transform(faces_X_c_train)\n",
    "faces_X_c_test_pca = pca_c.transform(faces_X_c_test)"
   ]
  },
  {
   "cell_type": "code",
   "execution_count": 33,
   "metadata": {},
   "outputs": [
    {
     "name": "stdout",
     "output_type": "stream",
     "text": [
      "Searching the best parameters for SVC...\n",
      "Fitting 5 folds for each of 240 candidates, totalling 1200 fits\n"
     ]
    },
    {
     "name": "stderr",
     "output_type": "stream",
     "text": [
      "[Parallel(n_jobs=6)]: Using backend LokyBackend with 6 concurrent workers.\n",
      "[Parallel(n_jobs=6)]: Done 100 tasks      | elapsed:    0.4s\n"
     ]
    },
    {
     "name": "stdout",
     "output_type": "stream",
     "text": [
      "Best parameters for SVC: {'estimator__C': 10, 'estimator__class_weight': None, 'estimator__decision_function_shape': 'ovo', 'estimator__gamma': 0.01, 'estimator__probability': True}\n"
     ]
    },
    {
     "name": "stderr",
     "output_type": "stream",
     "text": [
      "[Parallel(n_jobs=6)]: Done 1200 out of 1200 | elapsed:    3.5s finished\n"
     ]
    }
   ],
   "source": [
    "print(\"Searching the best parameters for SVC...\")\n",
    "param_grid = {\n",
    "    \"estimator__C\": np.arange(10,100,20),\n",
    "    \"estimator__gamma\": [0.0001, 0.0005, 0.001, 0.005, 0.0025, 0.01],\n",
    "    \"estimator__class_weight\": [None, \"balanced\"],\n",
    "    \"estimator__decision_function_shape\": [\"ovo\", \"ovr\"],\n",
    "    \"estimator__probability\": [True, False]\n",
    "}\n",
    "svm_faces_auc_clf = GridSearchCV(\n",
    "    MultiOutputClassifier(\n",
    "        SVC()\n",
    "    ), \n",
    "    param_grid, \n",
    "    verbose=1, \n",
    "    n_jobs=6\n",
    ")\n",
    "svm_faces_auc_clf = svm_faces_auc_clf.fit(faces_X_c_train_pca, faces_y_train)\n",
    "print(f\"Best parameters for SVC: {svm_faces_auc_clf.best_params_}\")"
   ]
  },
  {
   "cell_type": "code",
   "execution_count": 34,
   "metadata": {},
   "outputs": [
    {
     "data": {
      "text/plain": [
       "0.5714285714285714"
      ]
     },
     "execution_count": 34,
     "metadata": {},
     "output_type": "execute_result"
    }
   ],
   "source": [
    "svm_faces_auc_clf.best_estimator_.score(faces_X_c_test_pca, faces_y_test)"
   ]
  },
  {
   "cell_type": "code",
   "execution_count": 35,
   "metadata": {},
   "outputs": [
    {
     "data": {
      "text/plain": [
       "['svm_faces_auc_clf.joblib']"
      ]
     },
     "execution_count": 35,
     "metadata": {},
     "output_type": "execute_result"
    }
   ],
   "source": [
    "dump(svm_faces_auc_clf, 'svm_faces_auc_clf.joblib')"
   ]
  },
  {
   "cell_type": "markdown",
   "metadata": {},
   "source": [
    "#### Try KNN"
   ]
  },
  {
   "cell_type": "code",
   "execution_count": 36,
   "metadata": {},
   "outputs": [],
   "source": [
    "from sklearn.neighbors import KNeighborsClassifier"
   ]
  },
  {
   "cell_type": "markdown",
   "metadata": {},
   "source": [
    "On AU_r"
   ]
  },
  {
   "cell_type": "code",
   "execution_count": 51,
   "metadata": {},
   "outputs": [
    {
     "name": "stdout",
     "output_type": "stream",
     "text": [
      "Searching the best parameters for KNN...\n",
      "Fitting 5 folds for each of 3136 candidates, totalling 15680 fits\n"
     ]
    },
    {
     "name": "stderr",
     "output_type": "stream",
     "text": [
      "[Parallel(n_jobs=6)]: Using backend LokyBackend with 6 concurrent workers.\n",
      "[Parallel(n_jobs=6)]: Done  41 tasks      | elapsed:    1.9s\n",
      "[Parallel(n_jobs=6)]: Done 1132 tasks      | elapsed:    5.8s\n",
      "[Parallel(n_jobs=6)]: Done 3132 tasks      | elapsed:   12.0s\n",
      "[Parallel(n_jobs=6)]: Done 5932 tasks      | elapsed:   21.1s\n",
      "[Parallel(n_jobs=6)]: Done 9532 tasks      | elapsed:   32.3s\n",
      "[Parallel(n_jobs=6)]: Done 13932 tasks      | elapsed:   45.9s\n"
     ]
    },
    {
     "name": "stdout",
     "output_type": "stream",
     "text": [
      "Best parameters for SVC: {'estimator__algorithm': 'auto', 'estimator__leaf_size': 1, 'estimator__n_neighbors': 13, 'estimator__p': 1, 'estimator__weights': 'uniform'}\n"
     ]
    },
    {
     "name": "stderr",
     "output_type": "stream",
     "text": [
      "[Parallel(n_jobs=6)]: Done 15669 out of 15680 | elapsed:   51.2s remaining:    0.0s\n",
      "[Parallel(n_jobs=6)]: Done 15680 out of 15680 | elapsed:   51.2s finished\n"
     ]
    }
   ],
   "source": [
    "print(\"Searching the best parameters for KNN...\")\n",
    "param_grid = {\n",
    "    \"estimator__n_neighbors\": np.arange(1,15,1),\n",
    "    \"estimator__weights\": [\"uniform\", \"distance\"],\n",
    "    \"estimator__algorithm\": [\"auto\", \"ball_tree\", \"kd_tree\", \"brute\"],\n",
    "    \"estimator__leaf_size\": np.arange(1,15,1),\n",
    "    \"estimator__p\": [1, 2]\n",
    "}\n",
    "knn_faces_aur_clf = GridSearchCV(\n",
    "    MultiOutputClassifier(\n",
    "        KNeighborsClassifier()\n",
    "    ), \n",
    "    param_grid, \n",
    "    verbose=1, \n",
    "    n_jobs=6\n",
    ")\n",
    "knn_faces_aur_clf = knn_faces_aur_clf.fit(faces_X_r_train_pca, faces_y_train)\n",
    "print(f\"Best parameters for SVC: {knn_faces_aur_clf.best_params_}\")"
   ]
  },
  {
   "cell_type": "code",
   "execution_count": 52,
   "metadata": {},
   "outputs": [
    {
     "data": {
      "text/plain": [
       "0.5"
      ]
     },
     "execution_count": 52,
     "metadata": {},
     "output_type": "execute_result"
    }
   ],
   "source": [
    "knn_faces_aur_clf.best_estimator_.score(faces_X_r_test_pca, faces_y_test)"
   ]
  },
  {
   "cell_type": "code",
   "execution_count": 53,
   "metadata": {},
   "outputs": [
    {
     "data": {
      "text/plain": [
       "['knn_faces_aur_clf.joblib']"
      ]
     },
     "execution_count": 53,
     "metadata": {},
     "output_type": "execute_result"
    }
   ],
   "source": [
    "dump(knn_faces_aur_clf, 'knn_faces_aur_clf.joblib')"
   ]
  },
  {
   "cell_type": "markdown",
   "metadata": {},
   "source": [
    "On AU_c"
   ]
  },
  {
   "cell_type": "code",
   "execution_count": 54,
   "metadata": {},
   "outputs": [
    {
     "name": "stdout",
     "output_type": "stream",
     "text": [
      "Searching the best parameters for KNN...\n",
      "Fitting 5 folds for each of 3136 candidates, totalling 15680 fits\n"
     ]
    },
    {
     "name": "stderr",
     "output_type": "stream",
     "text": [
      "[Parallel(n_jobs=6)]: Using backend LokyBackend with 6 concurrent workers.\n",
      "[Parallel(n_jobs=6)]: Done 100 tasks      | elapsed:    0.6s\n",
      "[Parallel(n_jobs=6)]: Done 1300 tasks      | elapsed:    5.0s\n",
      "[Parallel(n_jobs=6)]: Done 3300 tasks      | elapsed:   11.1s\n",
      "[Parallel(n_jobs=6)]: Done 6100 tasks      | elapsed:   19.4s\n",
      "[Parallel(n_jobs=6)]: Done 9700 tasks      | elapsed:   30.5s\n",
      "[Parallel(n_jobs=6)]: Done 14100 tasks      | elapsed:   43.8s\n"
     ]
    },
    {
     "name": "stdout",
     "output_type": "stream",
     "text": [
      "Best parameters for SVC: {'estimator__algorithm': 'auto', 'estimator__leaf_size': 1, 'estimator__n_neighbors': 9, 'estimator__p': 1, 'estimator__weights': 'distance'}\n"
     ]
    },
    {
     "name": "stderr",
     "output_type": "stream",
     "text": [
      "[Parallel(n_jobs=6)]: Done 15680 out of 15680 | elapsed:   48.4s finished\n"
     ]
    }
   ],
   "source": [
    "print(\"Searching the best parameters for KNN...\")\n",
    "param_grid = {\n",
    "    \"estimator__n_neighbors\": np.arange(1,15,1),\n",
    "    \"estimator__weights\": [\"uniform\", \"distance\"],\n",
    "    \"estimator__algorithm\": [\"auto\", \"ball_tree\", \"kd_tree\", \"brute\"],\n",
    "    \"estimator__leaf_size\": np.arange(1,15,1),\n",
    "    \"estimator__p\": [1, 2]\n",
    "}\n",
    "knn_faces_auc_clf = GridSearchCV(\n",
    "    MultiOutputClassifier(\n",
    "        KNeighborsClassifier()\n",
    "    ), \n",
    "    param_grid, \n",
    "    verbose=1, \n",
    "    n_jobs=6\n",
    ")\n",
    "knn_faces_auc_clf = knn_faces_auc_clf.fit(faces_X_c_train_pca, faces_y_train)\n",
    "print(f\"Best parameters for SVC: {knn_faces_auc_clf.best_params_}\")"
   ]
  },
  {
   "cell_type": "code",
   "execution_count": 55,
   "metadata": {},
   "outputs": [
    {
     "data": {
      "text/plain": [
       "0.4166666666666667"
      ]
     },
     "execution_count": 55,
     "metadata": {},
     "output_type": "execute_result"
    }
   ],
   "source": [
    "knn_faces_auc_clf.best_estimator_.score(faces_X_c_test_pca, faces_y_test)"
   ]
  },
  {
   "cell_type": "code",
   "execution_count": 56,
   "metadata": {},
   "outputs": [
    {
     "data": {
      "text/plain": [
       "['knn_faces_auc_clf.joblib']"
      ]
     },
     "execution_count": 56,
     "metadata": {},
     "output_type": "execute_result"
    }
   ],
   "source": [
    "dump(knn_faces_auc_clf, 'knn_faces_auc_clf.joblib')"
   ]
  },
  {
   "cell_type": "markdown",
   "metadata": {},
   "source": [
    "Try boost KNN with scaler that uses AU_r data"
   ]
  },
  {
   "cell_type": "code",
   "execution_count": 57,
   "metadata": {},
   "outputs": [],
   "source": [
    "from sklearn.preprocessing import StandardScaler, MinMaxScaler, RobustScaler\n",
    "from sklearn.pipeline import make_pipeline"
   ]
  },
  {
   "cell_type": "markdown",
   "metadata": {},
   "source": [
    "Best parameters for SVC: {'estimator__algorithm': 'auto', 'estimator__leaf_size': 1, 'estimator__n_neighbors': 1, 'estimator__p': 2, 'estimator__weights': 'uniform'}"
   ]
  },
  {
   "cell_type": "code",
   "execution_count": 58,
   "metadata": {},
   "outputs": [],
   "source": [
    "names = [\n",
    "    \"Stander-KNN\",\n",
    "    \"MinMax-KNN\",\n",
    "    \"Robust-KNN\"\n",
    "]\n",
    "scaler_knn_aur_clfs = [\n",
    "    make_pipeline(\n",
    "        StandardScaler(),\n",
    "        KNeighborsClassifier(\n",
    "            algorithm=\"auto\",\n",
    "            leaf_size=1,\n",
    "            n_neighbors=13,\n",
    "            p=2,\n",
    "            weights=\"uniform\"\n",
    "        )\n",
    "    ),\n",
    "    make_pipeline(\n",
    "        MinMaxScaler(),\n",
    "        KNeighborsClassifier(\n",
    "            algorithm=\"auto\",\n",
    "            leaf_size=1,\n",
    "            n_neighbors=13,\n",
    "            p=2,\n",
    "            weights=\"uniform\"\n",
    "        )\n",
    "    ),\n",
    "    make_pipeline(\n",
    "        RobustScaler(),\n",
    "        KNeighborsClassifier(\n",
    "            algorithm=\"auto\",\n",
    "            leaf_size=1,\n",
    "            n_neighbors=13,\n",
    "            p=2,\n",
    "            weights=\"uniform\"\n",
    "        )\n",
    "    )\n",
    "]"
   ]
  },
  {
   "cell_type": "code",
   "execution_count": 59,
   "metadata": {
    "scrolled": false
   },
   "outputs": [
    {
     "name": "stderr",
     "output_type": "stream",
     "text": [
      "/home/liam/anaconda3/envs/py3.8.3/lib/python3.8/site-packages/sklearn/pipeline.py:335: DataConversionWarning: A column-vector y was passed when a 1d array was expected. Please change the shape of y to (n_samples, ), for example using ravel().\n",
      "  self._final_estimator.fit(Xt, y, **fit_params_last_step)\n",
      "/home/liam/anaconda3/envs/py3.8.3/lib/python3.8/site-packages/sklearn/pipeline.py:335: DataConversionWarning: A column-vector y was passed when a 1d array was expected. Please change the shape of y to (n_samples, ), for example using ravel().\n",
      "  self._final_estimator.fit(Xt, y, **fit_params_last_step)\n",
      "/home/liam/anaconda3/envs/py3.8.3/lib/python3.8/site-packages/sklearn/pipeline.py:335: DataConversionWarning: A column-vector y was passed when a 1d array was expected. Please change the shape of y to (n_samples, ), for example using ravel().\n",
      "  self._final_estimator.fit(Xt, y, **fit_params_last_step)\n"
     ]
    },
    {
     "data": {
      "text/plain": [
       "{'Stander-KNN': {'clf': Pipeline(steps=[('standardscaler', StandardScaler()),\n",
       "                  ('kneighborsclassifier',\n",
       "                   KNeighborsClassifier(leaf_size=1, n_neighbors=13))]),\n",
       "  'score': 0.5357142857142857},\n",
       " 'MinMax-KNN': {'clf': Pipeline(steps=[('minmaxscaler', MinMaxScaler()),\n",
       "                  ('kneighborsclassifier',\n",
       "                   KNeighborsClassifier(leaf_size=1, n_neighbors=13))]),\n",
       "  'score': 0.4880952380952381},\n",
       " 'Robust-KNN': {'clf': Pipeline(steps=[('robustscaler', RobustScaler()),\n",
       "                  ('kneighborsclassifier',\n",
       "                   KNeighborsClassifier(leaf_size=1, n_neighbors=13))]),\n",
       "  'score': 0.5238095238095238}}"
      ]
     },
     "execution_count": 59,
     "metadata": {},
     "output_type": "execute_result"
    }
   ],
   "source": [
    "scaler_knn_aur_clf_clc = {}\n",
    "for name, clf in zip(names, scaler_knn_aur_clfs):\n",
    "    clf = clf.fit(faces_X_r_train_pca, faces_y_train)\n",
    "    score = clf.score(faces_X_r_test_pca, faces_y_test)\n",
    "    scaler_knn_aur_clf_clc.update(\n",
    "        {\n",
    "            name:{\n",
    "                \"clf\":clf,\n",
    "                \"score\":score\n",
    "            }\n",
    "        }\n",
    "    )\n",
    "scaler_knn_aur_clf_clc"
   ]
  },
  {
   "cell_type": "markdown",
   "metadata": {},
   "source": [
    "This is not really helping..."
   ]
  },
  {
   "cell_type": "markdown",
   "metadata": {},
   "source": [
    "#### Try MLP\n",
    "Ref: https://stats.stackexchange.com/questions/181/how-to-choose-the-number-of-hidden-layers-and-nodes-in-a-feedforward-neural-netw"
   ]
  },
  {
   "cell_type": "code",
   "execution_count": 60,
   "metadata": {},
   "outputs": [
    {
     "data": {
      "text/plain": [
       "(168, 17)"
      ]
     },
     "execution_count": 60,
     "metadata": {},
     "output_type": "execute_result"
    }
   ],
   "source": [
    "faces_X_r_train.shape"
   ]
  },
  {
   "cell_type": "code",
   "execution_count": 61,
   "metadata": {},
   "outputs": [
    {
     "data": {
      "text/html": [
       "<div>\n",
       "<style scoped>\n",
       "    .dataframe tbody tr th:only-of-type {\n",
       "        vertical-align: middle;\n",
       "    }\n",
       "\n",
       "    .dataframe tbody tr th {\n",
       "        vertical-align: top;\n",
       "    }\n",
       "\n",
       "    .dataframe thead th {\n",
       "        text-align: right;\n",
       "    }\n",
       "</style>\n",
       "<table border=\"1\" class=\"dataframe\">\n",
       "  <thead>\n",
       "    <tr style=\"text-align: right;\">\n",
       "      <th></th>\n",
       "      <th>emotion</th>\n",
       "    </tr>\n",
       "  </thead>\n",
       "  <tbody>\n",
       "    <tr>\n",
       "      <th>129</th>\n",
       "      <td>fear</td>\n",
       "    </tr>\n",
       "    <tr>\n",
       "      <th>96</th>\n",
       "      <td>joy</td>\n",
       "    </tr>\n",
       "    <tr>\n",
       "      <th>7</th>\n",
       "      <td>anger</td>\n",
       "    </tr>\n",
       "    <tr>\n",
       "      <th>185</th>\n",
       "      <td>neutral frontal</td>\n",
       "    </tr>\n",
       "    <tr>\n",
       "      <th>173</th>\n",
       "      <td>sadness</td>\n",
       "    </tr>\n",
       "    <tr>\n",
       "      <th>...</th>\n",
       "      <td>...</td>\n",
       "    </tr>\n",
       "    <tr>\n",
       "      <th>91</th>\n",
       "      <td>anger</td>\n",
       "    </tr>\n",
       "    <tr>\n",
       "      <th>191</th>\n",
       "      <td>fear</td>\n",
       "    </tr>\n",
       "    <tr>\n",
       "      <th>180</th>\n",
       "      <td>joy</td>\n",
       "    </tr>\n",
       "    <tr>\n",
       "      <th>42</th>\n",
       "      <td>joy</td>\n",
       "    </tr>\n",
       "    <tr>\n",
       "      <th>218</th>\n",
       "      <td>surprise</td>\n",
       "    </tr>\n",
       "  </tbody>\n",
       "</table>\n",
       "<p>168 rows × 1 columns</p>\n",
       "</div>"
      ],
      "text/plain": [
       "             emotion\n",
       "129             fear\n",
       "96               joy\n",
       "7              anger\n",
       "185  neutral frontal\n",
       "173          sadness\n",
       "..               ...\n",
       "91             anger\n",
       "191             fear\n",
       "180              joy\n",
       "42               joy\n",
       "218         surprise\n",
       "\n",
       "[168 rows x 1 columns]"
      ]
     },
     "execution_count": 61,
     "metadata": {},
     "output_type": "execute_result"
    }
   ],
   "source": [
    "faces_y_train"
   ]
  },
  {
   "cell_type": "markdown",
   "metadata": {},
   "source": [
    "Nh=Ns(α∗(Ni+No))\n",
    "\n",
    "- Ni = number of input neurons.\n",
    "- No = number of output neurons.\n",
    "- Ns = number of samples in training data set.\n",
    "- α = an arbitrary scaling factor usually 2-10.\n",
    "\n",
    "168*(2*(17+7)) = 8064\n",
    "8064/4 = 2016"
   ]
  },
  {
   "cell_type": "code",
   "execution_count": 62,
   "metadata": {},
   "outputs": [],
   "source": [
    "from sklearn.neural_network import MLPClassifier"
   ]
  },
  {
   "cell_type": "code",
   "execution_count": null,
   "metadata": {},
   "outputs": [
    {
     "name": "stdout",
     "output_type": "stream",
     "text": [
      "Searching the best parameters for MLP...\n",
      "Fitting 5 folds for each of 72 candidates, totalling 360 fits\n"
     ]
    },
    {
     "name": "stderr",
     "output_type": "stream",
     "text": [
      "[Parallel(n_jobs=6)]: Using backend LokyBackend with 6 concurrent workers.\n"
     ]
    }
   ],
   "source": [
    "print(\"Searching the best parameters for MLP...\")\n",
    "param_grid = {\n",
    "    \"estimator__activation\": [\"identity\", \"logistic\", \"tanh\", \"relu\"],\n",
    "    \"estimator__solver\": [\"lbfgs\", \"sgd\", \"adam\"],\n",
    "    \"estimator__alpha\": np.arange(0.00001,0.001,0.0005),\n",
    "    \"estimator__beta_1\": np.arange(0.1,0.9,0.8),\n",
    "    \"estimator__beta_2\": np.arange(0.1,0.9,0.8),\n",
    "    \"estimator__hidden_layer_sizes\": [(2016,2016,2016,2016)],\n",
    "    \"estimator__learning_rate\": [\"constant\", \"invscaling\", \"adaptive\"]\n",
    "}\n",
    "mlp_faces_aur_clf = GridSearchCV(\n",
    "    MultiOutputClassifier(\n",
    "        MLPClassifier()\n",
    "    ), \n",
    "    param_grid, \n",
    "    verbose=1, \n",
    "    n_jobs=6\n",
    ")\n",
    "mlp_faces_aur_clf = mlp_faces_aur_clf.fit(faces_X_r_train_pca, faces_y_train)\n",
    "print(f\"Best parameters for SVC: {mlp_faces_aur_clf.best_params_}\")"
   ]
  },
  {
   "cell_type": "code",
   "execution_count": null,
   "metadata": {},
   "outputs": [],
   "source": [
    "mlp_faces_aur_clf.best_estimator_.score(faces_X_r_test_pca, faces_y_test)"
   ]
  },
  {
   "cell_type": "code",
   "execution_count": null,
   "metadata": {
    "scrolled": true
   },
   "outputs": [],
   "source": [
    "dump(mlp_faces_aur_clf, 'mlp_faces_aur_clf.joblib')"
   ]
  },
  {
   "cell_type": "code",
   "execution_count": null,
   "metadata": {},
   "outputs": [],
   "source": [
    "print(\"Searching the best parameters for MLP...\")\n",
    "param_grid = {\n",
    "    \"estimator__activation\": [\"identity\", \"logistic\", \"tanh\", \"relu\"],\n",
    "    \"estimator__alpha\": np.arange(0.0000001,0.001,0.0002),\n",
    "    \"estimator__beta_1\": np.arange(0,0.9,0.1),\n",
    "    \"estimator__beta_2\": np.arange(0,0.9,0.1),\n",
    "    \"estimator__hidden_layer_sizes\": [(2016,2016,2016,2016)],\n",
    "    \"estimator__learning_rate\": [\"constant\", \"invscaling\", \"adaptive\"]\n",
    "}\n",
    "mlp_faces_auc_clf = GridSearchCV(\n",
    "    MultiOutputClassifier(\n",
    "        MLPClassifier()\n",
    "    ), \n",
    "    param_grid, \n",
    "    verbose=1, \n",
    "    n_jobs=6\n",
    ")\n",
    "mlp_faces_auc_clf = mlp_faces_auc_clf.fit(faces_X_c_train_pca, faces_y_train)\n",
    "print(f\"Best parameters for SVC: {mlp_faces_aur_clf.best_params_}\")"
   ]
  },
  {
   "cell_type": "code",
   "execution_count": null,
   "metadata": {},
   "outputs": [],
   "source": [
    "mlp_faces_auc_clf.best_estimator_.score(faces_X_c_test_pca, faces_y_test)"
   ]
  },
  {
   "cell_type": "code",
   "execution_count": null,
   "metadata": {
    "scrolled": true
   },
   "outputs": [],
   "source": [
    "dump(mlp_faces_auc_clf, 'mlp_faces_auc_clf.joblib')"
   ]
  },
  {
   "cell_type": "code",
   "execution_count": null,
   "metadata": {},
   "outputs": [],
   "source": []
  }
 ],
 "metadata": {
  "kernelspec": {
   "display_name": "Python 3.8.3 64-bit ('py3.8.3': conda)",
   "language": "python",
   "name": "python38364bitpy383conda280fe4a0760e49869cdd48c92add7d98"
  },
  "language_info": {
   "codemirror_mode": {
    "name": "ipython",
    "version": 3
   },
   "file_extension": ".py",
   "mimetype": "text/x-python",
   "name": "python",
   "nbconvert_exporter": "python",
   "pygments_lexer": "ipython3",
   "version": "3.8.3"
  }
 },
 "nbformat": 4,
 "nbformat_minor": 4
}
